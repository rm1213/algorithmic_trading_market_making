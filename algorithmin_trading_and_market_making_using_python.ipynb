{
  "nbformat": 4,
  "nbformat_minor": 0,
  "metadata": {
    "colab": {
      "name": "algorithmin_trading_and_market_making_using_python.ipynb",
      "provenance": [],
      "collapsed_sections": []
    },
    "kernelspec": {
      "name": "python3",
      "display_name": "Python 3"
    },
    "language_info": {
      "name": "python"
    }
  },
  "cells": [
    {
      "cell_type": "code",
      "execution_count": 1,
      "metadata": {
        "id": "rW9tn3X_SQwK"
      },
      "outputs": [],
      "source": [
        "import math\n",
        "import pandas as pd\n",
        "import numpy as np\n",
        "import matplotlib.pyplot as plt\n",
        "import zipfile"
      ]
    },
    {
      "cell_type": "code",
      "source": [
        "!wget \"https://data.binance.vision/data/spot/daily/klines/BTCUSDT/1d/BTCUSDT-1d-2022-03-01.zip\""
      ],
      "metadata": {
        "colab": {
          "base_uri": "https://localhost:8080/"
        },
        "id": "6c-8iwXVSUq6",
        "outputId": "0642a1a2-c3ab-40c3-ae41-7bec9cd8f176"
      },
      "execution_count": 3,
      "outputs": [
        {
          "output_type": "stream",
          "name": "stdout",
          "text": [
            "--2022-04-07 18:28:16--  https://data.binance.vision/data/spot/daily/klines/BTCUSDT/1d/BTCUSDT-1d-2022-03-01.zip\n",
            "Resolving data.binance.vision (data.binance.vision)... 108.156.83.109, 108.156.83.117, 108.156.83.9, ...\n",
            "Connecting to data.binance.vision (data.binance.vision)|108.156.83.109|:443... connected.\n",
            "HTTP request sent, awaiting response... 200 OK\n",
            "Length: 240 [application/zip]\n",
            "Saving to: ‘BTCUSDT-1d-2022-03-01.zip’\n",
            "\n",
            "BTCUSDT-1d-2022-03- 100%[===================>]     240  --.-KB/s    in 0s      \n",
            "\n",
            "2022-04-07 18:28:16 (25.0 MB/s) - ‘BTCUSDT-1d-2022-03-01.zip’ saved [240/240]\n",
            "\n"
          ]
        }
      ]
    },
    {
      "cell_type": "code",
      "source": [
        "!wget \"https://data.binance.vision/data/spot/daily/klines/BTCUSDT/1d/BTCUSDT-1d-2022-03-02.zip\""
      ],
      "metadata": {
        "colab": {
          "base_uri": "https://localhost:8080/"
        },
        "id": "EGJeG0IQS2Y_",
        "outputId": "e7d9061d-bae3-48af-97a7-73271913099a"
      },
      "execution_count": 4,
      "outputs": [
        {
          "output_type": "stream",
          "name": "stdout",
          "text": [
            "--2022-04-07 18:28:16--  https://data.binance.vision/data/spot/daily/klines/BTCUSDT/1d/BTCUSDT-1d-2022-03-02.zip\n",
            "Resolving data.binance.vision (data.binance.vision)... 108.156.83.109, 108.156.83.117, 108.156.83.9, ...\n",
            "Connecting to data.binance.vision (data.binance.vision)|108.156.83.109|:443... connected.\n",
            "HTTP request sent, awaiting response... 200 OK\n",
            "Length: 239 [application/zip]\n",
            "Saving to: ‘BTCUSDT-1d-2022-03-02.zip’\n",
            "\n",
            "BTCUSDT-1d-2022-03- 100%[===================>]     239  --.-KB/s    in 0s      \n",
            "\n",
            "2022-04-07 18:28:17 (37.0 MB/s) - ‘BTCUSDT-1d-2022-03-02.zip’ saved [239/239]\n",
            "\n"
          ]
        }
      ]
    },
    {
      "cell_type": "code",
      "source": [
        "!wget \"https://data.binance.vision/data/spot/daily/klines/BTCUSDT/1d/BTCUSDT-1d-2022-03-03.zip\""
      ],
      "metadata": {
        "colab": {
          "base_uri": "https://localhost:8080/"
        },
        "id": "LMFLFJ-bTC2E",
        "outputId": "1917d99e-a2e5-4f60-cbb5-a34ede47c4da"
      },
      "execution_count": 5,
      "outputs": [
        {
          "output_type": "stream",
          "name": "stdout",
          "text": [
            "--2022-04-07 18:28:29--  https://data.binance.vision/data/spot/daily/klines/BTCUSDT/1d/BTCUSDT-1d-2022-03-03.zip\n",
            "Resolving data.binance.vision (data.binance.vision)... 108.156.83.117, 108.156.83.109, 108.156.83.9, ...\n",
            "Connecting to data.binance.vision (data.binance.vision)|108.156.83.117|:443... connected.\n",
            "HTTP request sent, awaiting response... 200 OK\n",
            "Length: 240 [application/zip]\n",
            "Saving to: ‘BTCUSDT-1d-2022-03-03.zip’\n",
            "\n",
            "BTCUSDT-1d-2022-03- 100%[===================>]     240  --.-KB/s    in 0s      \n",
            "\n",
            "2022-04-07 18:28:30 (6.81 MB/s) - ‘BTCUSDT-1d-2022-03-03.zip’ saved [240/240]\n",
            "\n"
          ]
        }
      ]
    },
    {
      "cell_type": "code",
      "source": [
        "data_1 = zipfile.ZipFile(\"/content/BTCUSDT-1d-2022-03-01.zip\", \"r\")\n",
        "data_1.extractall()"
      ],
      "metadata": {
        "id": "eYtt8gf3TF6t"
      },
      "execution_count": 7,
      "outputs": []
    },
    {
      "cell_type": "code",
      "source": [
        "data_11 = zipfile.ZipFile(\"/content/BTCUSDT-1d-2022-03-02.zip\", \"r\")\n",
        "data_11.extractall()"
      ],
      "metadata": {
        "id": "ou52lRpiTKg1"
      },
      "execution_count": 8,
      "outputs": []
    },
    {
      "cell_type": "code",
      "source": [
        "data_111 = zipfile.ZipFile(\"/content/BTCUSDT-1d-2022-03-03.zip\", \"r\")\n",
        "data_111.extractall()"
      ],
      "metadata": {
        "id": "1bBNRxOxTRr8"
      },
      "execution_count": 9,
      "outputs": []
    },
    {
      "cell_type": "code",
      "source": [
        "data_1_fin = pd.read_csv('/content/BTCUSDT-1d-2022-03-01.csv')\n",
        "print(data_1_fin)"
      ],
      "metadata": {
        "colab": {
          "base_uri": "https://localhost:8080/"
        },
        "id": "0y_10r-UTVFa",
        "outputId": "d9e3d5a7-21fb-4672-9ecb-3a9d2dff1b1f"
      },
      "execution_count": 10,
      "outputs": [
        {
          "output_type": "stream",
          "name": "stdout",
          "text": [
            "Empty DataFrame\n",
            "Columns: [1646092800000, 43160.00000000, 44949.00000000, 42809.98000000, 44421.20000000, 61743.09873000, 1646179199999, 2701611023.69431990, 1866871, 30937.54085000, 1353520463.00847440, 0]\n",
            "Index: []\n"
          ]
        }
      ]
    },
    {
      "cell_type": "code",
      "source": [
        "data_11_fin = pd.read_csv('/content/BTCUSDT-1d-2022-03-02.csv')\n",
        "print(data_11_fin)"
      ],
      "metadata": {
        "colab": {
          "base_uri": "https://localhost:8080/"
        },
        "id": "6YYoSYYKTadv",
        "outputId": "2d9102f3-2bdc-43e3-e45c-17d6ea8bb7f7"
      },
      "execution_count": 11,
      "outputs": [
        {
          "output_type": "stream",
          "name": "stdout",
          "text": [
            "Empty DataFrame\n",
            "Columns: [1646179200000, 44421.20000000, 45400.00000000, 43334.09000000, 43892.98000000, 57782.65081000, 1646265599999, 2550792948.28862420, 1653131, 28624.11310000, 1264172354.04562620, 0]\n",
            "Index: []\n"
          ]
        }
      ]
    },
    {
      "cell_type": "code",
      "source": [
        "data_111_fin = pd.read_csv('/content/BTCUSDT-1d-2022-03-03.csv')\n",
        "print(data_111_fin)"
      ],
      "metadata": {
        "colab": {
          "base_uri": "https://localhost:8080/"
        },
        "id": "W0mLt2KDTpcK",
        "outputId": "13de6775-c4be-464e-88ad-293a100252ec"
      },
      "execution_count": 12,
      "outputs": [
        {
          "output_type": "stream",
          "name": "stdout",
          "text": [
            "Empty DataFrame\n",
            "Columns: [1646265600000, 43892.99000000, 44101.12000000, 41832.28000000, 42454.00000000, 50940.61021000, 1646351999999, 2192152097.92518790, 1289320, 24438.40113000, 1051969942.21123210, 0]\n",
            "Index: []\n"
          ]
        }
      ]
    },
    {
      "cell_type": "code",
      "source": [
        "data_1_fin_btcustd = pd.read_csv('/content/data_btcusdt_final.csv')\n",
        "print(data_1_fin_btcustd)"
      ],
      "metadata": {
        "colab": {
          "base_uri": "https://localhost:8080/"
        },
        "id": "U1aplfE2WUQ-",
        "outputId": "5be30e24-e5b1-4968-e911-d0d4cbb79a26"
      },
      "execution_count": 25,
      "outputs": [
        {
          "output_type": "stream",
          "name": "stdout",
          "text": [
            "      Open_time      Open      High     Close    Volume   Close_time  \\\n",
            "0  1.646090e+12  43160.00  44949.00  42809.98  44421.20  61743.09873   \n",
            "1  1.646180e+12  44421.20  45400.00  43334.09  43892.98  57782.65081   \n",
            "2  1.646270e+12  43892.99  44101.12  41832.28  42454.00  50940.61021   \n",
            "\n",
            "    Quote_asset_volume   Number_of_trades   Taker_buy_base_asset_volume  \\\n",
            "0         1.646180e+12         2701611024                       1866871   \n",
            "1         1.646270e+12         2550792948                       1653131   \n",
            "2         1.646350e+12         2192152098                       1289320   \n",
            "\n",
            "    Taker_buy_quote_asset_volume      ignore  \n",
            "0                    30937.54085  1353520463  \n",
            "1                    28624.11310  1264172354  \n",
            "2                    24438.40113  1051969942  \n"
          ]
        }
      ]
    },
    {
      "cell_type": "code",
      "source": [
        "new_bid = np.nan\n",
        "new_ask = np.nan\n",
        "tick_size = 0.1\n",
        "running_qty = 0\n",
        "running_qty_val = []\n",
        "equity = []\n",
        "static_equity = 1000\n",
        "order_qty = 100\n",
        "equity = []\n",
        "fee = 0\n",
        "high = 3\n",
        "low = 3\n",
        "close = 3\n",
        "half_spread = 0.5\n",
        "max_position = 2\n",
        "trades = data_1_fin_btcustd[' Number_of_trades']\n",
        "volume = data_1_fin_btcustd[' Volume']\n",
        "close_time = data_1_fin_btcustd[' Close_time']\n",
        "A = np.max(trades/volume)\n",
        "B = np.max(trades/close_time)\n",
        "imbalance = 0.00001\n",
        "new_bid_val = []\n",
        "new_ask_val = []"
      ],
      "metadata": {
        "id": "cTUStpyNXgfi"
      },
      "execution_count": 194,
      "outputs": []
    },
    {
      "cell_type": "code",
      "source": [
        "close_val = data_1_fin_btcustd[' Close']\n",
        "high_val = data_1_fin_btcustd[' High']"
      ],
      "metadata": {
        "id": "SLT8PtfGaXRP"
      },
      "execution_count": 195,
      "outputs": []
    },
    {
      "cell_type": "code",
      "source": [
        "print(data_1_fin_btcustd.columns)"
      ],
      "metadata": {
        "colab": {
          "base_uri": "https://localhost:8080/"
        },
        "id": "Q_A8VleacKEA",
        "outputId": "db041c92-b530-4d32-d4ba-36b84016a4a2"
      },
      "execution_count": 196,
      "outputs": [
        {
          "output_type": "stream",
          "name": "stdout",
          "text": [
            "Index(['Open_time', ' Open', ' High', ' Close', ' Volume', ' Close_time',\n",
            "       ' Quote_asset_volume', ' Number_of_trades',\n",
            "       ' Taker_buy_base_asset_volume', ' Taker_buy_quote_asset_volume',\n",
            "       ' ignore'],\n",
            "      dtype='object')\n"
          ]
        }
      ]
    },
    {
      "cell_type": "code",
      "source": [
        "for row in close_val:\n",
        "  if new_bid > row:\n",
        "    running_qty += order_qty\n",
        "    static_equity += order_qty / new_bid\n",
        "    fee += order_qty / new_bid * -0.00025\n",
        "for row in high_val:\n",
        "  if new_ask < row:\n",
        "    running_qty -= order_qty\n",
        "    static_equity -= order_qty / new_ask\n",
        "    fee += order_qty / new_ask * -0.00025    \n",
        "        # equity.append(static_equity - running_qty / row[close] - fee)\n",
        "equity.append(static_equity * row - running_qty - fee * row)\n",
        "running_qty_val.append(running_qty)\n",
        "x = running_qty + equity[-1]\n",
        "skew = B * x / max_position * -1\n",
        "for row in close_val:\n",
        "  quote_mid_price = row + A * row*imbalance + skew\n",
        "  new_bid = np.minimum(np.round(quote_mid_price * (1 - half_spread) / tick_size) * tick_size, row - tick_size)\n",
        "  new_ask = np.maximum(np.round(quote_mid_price * (1 + half_spread) / tick_size) * tick_size, row + tick_size)\n",
        "  new_bid_val.append(new_bid)\n",
        "  new_ask_val.append(new_ask)"
      ],
      "metadata": {
        "id": "UJWyizWVZdeo"
      },
      "execution_count": 197,
      "outputs": []
    },
    {
      "cell_type": "code",
      "source": [
        "print(static_equity)"
      ],
      "metadata": {
        "colab": {
          "base_uri": "https://localhost:8080/"
        },
        "id": "vRE9yE3naNwt",
        "outputId": "c078c767-c2b3-4fb3-c6fe-d5142f426cab"
      },
      "execution_count": 198,
      "outputs": [
        {
          "output_type": "stream",
          "name": "stdout",
          "text": [
            "1000\n"
          ]
        }
      ]
    },
    {
      "cell_type": "code",
      "source": [
        "print(running_qty_val)"
      ],
      "metadata": {
        "colab": {
          "base_uri": "https://localhost:8080/"
        },
        "id": "xztdkBKYexEb",
        "outputId": "eac12c74-c96d-41e2-f0ae-7217cac7ab67"
      },
      "execution_count": 199,
      "outputs": [
        {
          "output_type": "stream",
          "name": "stdout",
          "text": [
            "[0]\n"
          ]
        }
      ]
    },
    {
      "cell_type": "code",
      "source": [
        "print(new_ask_val)"
      ],
      "metadata": {
        "colab": {
          "base_uri": "https://localhost:8080/"
        },
        "id": "HhM8Yb64fMAA",
        "outputId": "5938e9ad-9a52-4b6d-c76f-649ab8ef8ced"
      },
      "execution_count": 201,
      "outputs": [
        {
          "output_type": "stream",
          "name": "stdout",
          "text": [
            "[42810.08, 43334.189999999995, 41832.38]\n"
          ]
        }
      ]
    },
    {
      "cell_type": "code",
      "source": [
        "new_bid_val = (data_1_fin_btcustd[' Number_of_trades']/np.abs(new_bid_val))+data_1_fin_btcustd[' Volume']\n",
        "print(new_bid_val)"
      ],
      "metadata": {
        "colab": {
          "base_uri": "https://localhost:8080/"
        },
        "id": "aRQ_8niifOe-",
        "outputId": "c7dcd984-d63a-4ef8-c286-b5e22126f31a"
      },
      "execution_count": 202,
      "outputs": [
        {
          "output_type": "stream",
          "name": "stdout",
          "text": [
            "0    44421.205551\n",
            "1    43892.985241\n",
            "2    42454.004504\n",
            "dtype: float64\n"
          ]
        }
      ]
    },
    {
      "cell_type": "code",
      "source": [
        "data_1_fin_btcustd['new_bid_val'] = new_bid_val\n",
        "data_1_fin_btcustd['new_ask_val'] = new_ask_val\n",
        "data_1_fin_btcustd.drop(['ne_ask_val'],axis=1)"
      ],
      "metadata": {
        "colab": {
          "base_uri": "https://localhost:8080/",
          "height": 207
        },
        "id": "aiZIwtwigJiQ",
        "outputId": "a3ecfbfe-398d-40d2-d4e8-c827527cacf8"
      },
      "execution_count": 207,
      "outputs": [
        {
          "output_type": "execute_result",
          "data": {
            "text/plain": [
              "      Open_time      Open      High     Close    Volume   Close_time  \\\n",
              "0  1.646090e+12  43160.00  44949.00  42809.98  44421.20  61743.09873   \n",
              "1  1.646180e+12  44421.20  45400.00  43334.09  43892.98  57782.65081   \n",
              "2  1.646270e+12  43892.99  44101.12  41832.28  42454.00  50940.61021   \n",
              "\n",
              "    Quote_asset_volume   Number_of_trades   Taker_buy_base_asset_volume  \\\n",
              "0         1.646180e+12         2701611024                       1866871   \n",
              "1         1.646270e+12         2550792948                       1653131   \n",
              "2         1.646350e+12         2192152098                       1289320   \n",
              "\n",
              "    Taker_buy_quote_asset_volume      ignore   new_bid_val  new_ask_val  \n",
              "0                    30937.54085  1353520463  44421.205551     42810.08  \n",
              "1                    28624.11310  1264172354  43892.985241     43334.19  \n",
              "2                    24438.40113  1051969942  42454.004504     41832.38  "
            ],
            "text/html": [
              "\n",
              "  <div id=\"df-7d156e89-e932-45cf-8a1b-d870414ee56b\">\n",
              "    <div class=\"colab-df-container\">\n",
              "      <div>\n",
              "<style scoped>\n",
              "    .dataframe tbody tr th:only-of-type {\n",
              "        vertical-align: middle;\n",
              "    }\n",
              "\n",
              "    .dataframe tbody tr th {\n",
              "        vertical-align: top;\n",
              "    }\n",
              "\n",
              "    .dataframe thead th {\n",
              "        text-align: right;\n",
              "    }\n",
              "</style>\n",
              "<table border=\"1\" class=\"dataframe\">\n",
              "  <thead>\n",
              "    <tr style=\"text-align: right;\">\n",
              "      <th></th>\n",
              "      <th>Open_time</th>\n",
              "      <th>Open</th>\n",
              "      <th>High</th>\n",
              "      <th>Close</th>\n",
              "      <th>Volume</th>\n",
              "      <th>Close_time</th>\n",
              "      <th>Quote_asset_volume</th>\n",
              "      <th>Number_of_trades</th>\n",
              "      <th>Taker_buy_base_asset_volume</th>\n",
              "      <th>Taker_buy_quote_asset_volume</th>\n",
              "      <th>ignore</th>\n",
              "      <th>new_bid_val</th>\n",
              "      <th>new_ask_val</th>\n",
              "    </tr>\n",
              "  </thead>\n",
              "  <tbody>\n",
              "    <tr>\n",
              "      <th>0</th>\n",
              "      <td>1.646090e+12</td>\n",
              "      <td>43160.00</td>\n",
              "      <td>44949.00</td>\n",
              "      <td>42809.98</td>\n",
              "      <td>44421.20</td>\n",
              "      <td>61743.09873</td>\n",
              "      <td>1.646180e+12</td>\n",
              "      <td>2701611024</td>\n",
              "      <td>1866871</td>\n",
              "      <td>30937.54085</td>\n",
              "      <td>1353520463</td>\n",
              "      <td>44421.205551</td>\n",
              "      <td>42810.08</td>\n",
              "    </tr>\n",
              "    <tr>\n",
              "      <th>1</th>\n",
              "      <td>1.646180e+12</td>\n",
              "      <td>44421.20</td>\n",
              "      <td>45400.00</td>\n",
              "      <td>43334.09</td>\n",
              "      <td>43892.98</td>\n",
              "      <td>57782.65081</td>\n",
              "      <td>1.646270e+12</td>\n",
              "      <td>2550792948</td>\n",
              "      <td>1653131</td>\n",
              "      <td>28624.11310</td>\n",
              "      <td>1264172354</td>\n",
              "      <td>43892.985241</td>\n",
              "      <td>43334.19</td>\n",
              "    </tr>\n",
              "    <tr>\n",
              "      <th>2</th>\n",
              "      <td>1.646270e+12</td>\n",
              "      <td>43892.99</td>\n",
              "      <td>44101.12</td>\n",
              "      <td>41832.28</td>\n",
              "      <td>42454.00</td>\n",
              "      <td>50940.61021</td>\n",
              "      <td>1.646350e+12</td>\n",
              "      <td>2192152098</td>\n",
              "      <td>1289320</td>\n",
              "      <td>24438.40113</td>\n",
              "      <td>1051969942</td>\n",
              "      <td>42454.004504</td>\n",
              "      <td>41832.38</td>\n",
              "    </tr>\n",
              "  </tbody>\n",
              "</table>\n",
              "</div>\n",
              "      <button class=\"colab-df-convert\" onclick=\"convertToInteractive('df-7d156e89-e932-45cf-8a1b-d870414ee56b')\"\n",
              "              title=\"Convert this dataframe to an interactive table.\"\n",
              "              style=\"display:none;\">\n",
              "        \n",
              "  <svg xmlns=\"http://www.w3.org/2000/svg\" height=\"24px\"viewBox=\"0 0 24 24\"\n",
              "       width=\"24px\">\n",
              "    <path d=\"M0 0h24v24H0V0z\" fill=\"none\"/>\n",
              "    <path d=\"M18.56 5.44l.94 2.06.94-2.06 2.06-.94-2.06-.94-.94-2.06-.94 2.06-2.06.94zm-11 1L8.5 8.5l.94-2.06 2.06-.94-2.06-.94L8.5 2.5l-.94 2.06-2.06.94zm10 10l.94 2.06.94-2.06 2.06-.94-2.06-.94-.94-2.06-.94 2.06-2.06.94z\"/><path d=\"M17.41 7.96l-1.37-1.37c-.4-.4-.92-.59-1.43-.59-.52 0-1.04.2-1.43.59L10.3 9.45l-7.72 7.72c-.78.78-.78 2.05 0 2.83L4 21.41c.39.39.9.59 1.41.59.51 0 1.02-.2 1.41-.59l7.78-7.78 2.81-2.81c.8-.78.8-2.07 0-2.86zM5.41 20L4 18.59l7.72-7.72 1.47 1.35L5.41 20z\"/>\n",
              "  </svg>\n",
              "      </button>\n",
              "      \n",
              "  <style>\n",
              "    .colab-df-container {\n",
              "      display:flex;\n",
              "      flex-wrap:wrap;\n",
              "      gap: 12px;\n",
              "    }\n",
              "\n",
              "    .colab-df-convert {\n",
              "      background-color: #E8F0FE;\n",
              "      border: none;\n",
              "      border-radius: 50%;\n",
              "      cursor: pointer;\n",
              "      display: none;\n",
              "      fill: #1967D2;\n",
              "      height: 32px;\n",
              "      padding: 0 0 0 0;\n",
              "      width: 32px;\n",
              "    }\n",
              "\n",
              "    .colab-df-convert:hover {\n",
              "      background-color: #E2EBFA;\n",
              "      box-shadow: 0px 1px 2px rgba(60, 64, 67, 0.3), 0px 1px 3px 1px rgba(60, 64, 67, 0.15);\n",
              "      fill: #174EA6;\n",
              "    }\n",
              "\n",
              "    [theme=dark] .colab-df-convert {\n",
              "      background-color: #3B4455;\n",
              "      fill: #D2E3FC;\n",
              "    }\n",
              "\n",
              "    [theme=dark] .colab-df-convert:hover {\n",
              "      background-color: #434B5C;\n",
              "      box-shadow: 0px 1px 3px 1px rgba(0, 0, 0, 0.15);\n",
              "      filter: drop-shadow(0px 1px 2px rgba(0, 0, 0, 0.3));\n",
              "      fill: #FFFFFF;\n",
              "    }\n",
              "  </style>\n",
              "\n",
              "      <script>\n",
              "        const buttonEl =\n",
              "          document.querySelector('#df-7d156e89-e932-45cf-8a1b-d870414ee56b button.colab-df-convert');\n",
              "        buttonEl.style.display =\n",
              "          google.colab.kernel.accessAllowed ? 'block' : 'none';\n",
              "\n",
              "        async function convertToInteractive(key) {\n",
              "          const element = document.querySelector('#df-7d156e89-e932-45cf-8a1b-d870414ee56b');\n",
              "          const dataTable =\n",
              "            await google.colab.kernel.invokeFunction('convertToInteractive',\n",
              "                                                     [key], {});\n",
              "          if (!dataTable) return;\n",
              "\n",
              "          const docLinkHtml = 'Like what you see? Visit the ' +\n",
              "            '<a target=\"_blank\" href=https://colab.research.google.com/notebooks/data_table.ipynb>data table notebook</a>'\n",
              "            + ' to learn more about interactive tables.';\n",
              "          element.innerHTML = '';\n",
              "          dataTable['output_type'] = 'display_data';\n",
              "          await google.colab.output.renderOutput(dataTable, element);\n",
              "          const docLink = document.createElement('div');\n",
              "          docLink.innerHTML = docLinkHtml;\n",
              "          element.appendChild(docLink);\n",
              "        }\n",
              "      </script>\n",
              "    </div>\n",
              "  </div>\n",
              "  "
            ]
          },
          "metadata": {},
          "execution_count": 207
        }
      ]
    },
    {
      "cell_type": "code",
      "source": [
        "data_1_fin_btcustd['gross_p_n_l'] = ((data_1_fin_btcustd['new_bid_val']-data_1_fin_btcustd['new_ask_val'])/data_1_fin_btcustd[' Volume'])*10000\n",
        "data_1_fin_btcustd['average_win_p_n_l'] = np.average(data_1_fin_btcustd['gross_p_n_l'])\n",
        "data_1_fin_btcustd.drop(['ne_ask_val'],axis=1)"
      ],
      "metadata": {
        "colab": {
          "base_uri": "https://localhost:8080/",
          "height": 207
        },
        "id": "-GF_xSp1jQdo",
        "outputId": "c92fb6c4-db9b-4b66-ff9f-6ae46c82993f"
      },
      "execution_count": 212,
      "outputs": [
        {
          "output_type": "execute_result",
          "data": {
            "text/plain": [
              "      Open_time      Open      High     Close    Volume   Close_time  \\\n",
              "0  1.646090e+12  43160.00  44949.00  42809.98  44421.20  61743.09873   \n",
              "1  1.646180e+12  44421.20  45400.00  43334.09  43892.98  57782.65081   \n",
              "2  1.646270e+12  43892.99  44101.12  41832.28  42454.00  50940.61021   \n",
              "\n",
              "    Quote_asset_volume   Number_of_trades   Taker_buy_base_asset_volume  \\\n",
              "0         1.646180e+12         2701611024                       1866871   \n",
              "1         1.646270e+12         2550792948                       1653131   \n",
              "2         1.646350e+12         2192152098                       1289320   \n",
              "\n",
              "    Taker_buy_quote_asset_volume      ignore   new_bid_val  new_ask_val  \\\n",
              "0                    30937.54085  1353520463  44421.205551     42810.08   \n",
              "1                    28624.11310  1264172354  43892.985241     43334.19   \n",
              "2                    24438.40113  1051969942  42454.004504     41832.38   \n",
              "\n",
              "   gross_p_n_l  average_win_p_n_l  \n",
              "0   362.692937         212.141525  \n",
              "1   127.308568         212.141525  \n",
              "2   146.423071         212.141525  "
            ],
            "text/html": [
              "\n",
              "  <div id=\"df-58edd32e-1527-4776-8480-79025b58e73b\">\n",
              "    <div class=\"colab-df-container\">\n",
              "      <div>\n",
              "<style scoped>\n",
              "    .dataframe tbody tr th:only-of-type {\n",
              "        vertical-align: middle;\n",
              "    }\n",
              "\n",
              "    .dataframe tbody tr th {\n",
              "        vertical-align: top;\n",
              "    }\n",
              "\n",
              "    .dataframe thead th {\n",
              "        text-align: right;\n",
              "    }\n",
              "</style>\n",
              "<table border=\"1\" class=\"dataframe\">\n",
              "  <thead>\n",
              "    <tr style=\"text-align: right;\">\n",
              "      <th></th>\n",
              "      <th>Open_time</th>\n",
              "      <th>Open</th>\n",
              "      <th>High</th>\n",
              "      <th>Close</th>\n",
              "      <th>Volume</th>\n",
              "      <th>Close_time</th>\n",
              "      <th>Quote_asset_volume</th>\n",
              "      <th>Number_of_trades</th>\n",
              "      <th>Taker_buy_base_asset_volume</th>\n",
              "      <th>Taker_buy_quote_asset_volume</th>\n",
              "      <th>ignore</th>\n",
              "      <th>new_bid_val</th>\n",
              "      <th>new_ask_val</th>\n",
              "      <th>gross_p_n_l</th>\n",
              "      <th>average_win_p_n_l</th>\n",
              "    </tr>\n",
              "  </thead>\n",
              "  <tbody>\n",
              "    <tr>\n",
              "      <th>0</th>\n",
              "      <td>1.646090e+12</td>\n",
              "      <td>43160.00</td>\n",
              "      <td>44949.00</td>\n",
              "      <td>42809.98</td>\n",
              "      <td>44421.20</td>\n",
              "      <td>61743.09873</td>\n",
              "      <td>1.646180e+12</td>\n",
              "      <td>2701611024</td>\n",
              "      <td>1866871</td>\n",
              "      <td>30937.54085</td>\n",
              "      <td>1353520463</td>\n",
              "      <td>44421.205551</td>\n",
              "      <td>42810.08</td>\n",
              "      <td>362.692937</td>\n",
              "      <td>212.141525</td>\n",
              "    </tr>\n",
              "    <tr>\n",
              "      <th>1</th>\n",
              "      <td>1.646180e+12</td>\n",
              "      <td>44421.20</td>\n",
              "      <td>45400.00</td>\n",
              "      <td>43334.09</td>\n",
              "      <td>43892.98</td>\n",
              "      <td>57782.65081</td>\n",
              "      <td>1.646270e+12</td>\n",
              "      <td>2550792948</td>\n",
              "      <td>1653131</td>\n",
              "      <td>28624.11310</td>\n",
              "      <td>1264172354</td>\n",
              "      <td>43892.985241</td>\n",
              "      <td>43334.19</td>\n",
              "      <td>127.308568</td>\n",
              "      <td>212.141525</td>\n",
              "    </tr>\n",
              "    <tr>\n",
              "      <th>2</th>\n",
              "      <td>1.646270e+12</td>\n",
              "      <td>43892.99</td>\n",
              "      <td>44101.12</td>\n",
              "      <td>41832.28</td>\n",
              "      <td>42454.00</td>\n",
              "      <td>50940.61021</td>\n",
              "      <td>1.646350e+12</td>\n",
              "      <td>2192152098</td>\n",
              "      <td>1289320</td>\n",
              "      <td>24438.40113</td>\n",
              "      <td>1051969942</td>\n",
              "      <td>42454.004504</td>\n",
              "      <td>41832.38</td>\n",
              "      <td>146.423071</td>\n",
              "      <td>212.141525</td>\n",
              "    </tr>\n",
              "  </tbody>\n",
              "</table>\n",
              "</div>\n",
              "      <button class=\"colab-df-convert\" onclick=\"convertToInteractive('df-58edd32e-1527-4776-8480-79025b58e73b')\"\n",
              "              title=\"Convert this dataframe to an interactive table.\"\n",
              "              style=\"display:none;\">\n",
              "        \n",
              "  <svg xmlns=\"http://www.w3.org/2000/svg\" height=\"24px\"viewBox=\"0 0 24 24\"\n",
              "       width=\"24px\">\n",
              "    <path d=\"M0 0h24v24H0V0z\" fill=\"none\"/>\n",
              "    <path d=\"M18.56 5.44l.94 2.06.94-2.06 2.06-.94-2.06-.94-.94-2.06-.94 2.06-2.06.94zm-11 1L8.5 8.5l.94-2.06 2.06-.94-2.06-.94L8.5 2.5l-.94 2.06-2.06.94zm10 10l.94 2.06.94-2.06 2.06-.94-2.06-.94-.94-2.06-.94 2.06-2.06.94z\"/><path d=\"M17.41 7.96l-1.37-1.37c-.4-.4-.92-.59-1.43-.59-.52 0-1.04.2-1.43.59L10.3 9.45l-7.72 7.72c-.78.78-.78 2.05 0 2.83L4 21.41c.39.39.9.59 1.41.59.51 0 1.02-.2 1.41-.59l7.78-7.78 2.81-2.81c.8-.78.8-2.07 0-2.86zM5.41 20L4 18.59l7.72-7.72 1.47 1.35L5.41 20z\"/>\n",
              "  </svg>\n",
              "      </button>\n",
              "      \n",
              "  <style>\n",
              "    .colab-df-container {\n",
              "      display:flex;\n",
              "      flex-wrap:wrap;\n",
              "      gap: 12px;\n",
              "    }\n",
              "\n",
              "    .colab-df-convert {\n",
              "      background-color: #E8F0FE;\n",
              "      border: none;\n",
              "      border-radius: 50%;\n",
              "      cursor: pointer;\n",
              "      display: none;\n",
              "      fill: #1967D2;\n",
              "      height: 32px;\n",
              "      padding: 0 0 0 0;\n",
              "      width: 32px;\n",
              "    }\n",
              "\n",
              "    .colab-df-convert:hover {\n",
              "      background-color: #E2EBFA;\n",
              "      box-shadow: 0px 1px 2px rgba(60, 64, 67, 0.3), 0px 1px 3px 1px rgba(60, 64, 67, 0.15);\n",
              "      fill: #174EA6;\n",
              "    }\n",
              "\n",
              "    [theme=dark] .colab-df-convert {\n",
              "      background-color: #3B4455;\n",
              "      fill: #D2E3FC;\n",
              "    }\n",
              "\n",
              "    [theme=dark] .colab-df-convert:hover {\n",
              "      background-color: #434B5C;\n",
              "      box-shadow: 0px 1px 3px 1px rgba(0, 0, 0, 0.15);\n",
              "      filter: drop-shadow(0px 1px 2px rgba(0, 0, 0, 0.3));\n",
              "      fill: #FFFFFF;\n",
              "    }\n",
              "  </style>\n",
              "\n",
              "      <script>\n",
              "        const buttonEl =\n",
              "          document.querySelector('#df-58edd32e-1527-4776-8480-79025b58e73b button.colab-df-convert');\n",
              "        buttonEl.style.display =\n",
              "          google.colab.kernel.accessAllowed ? 'block' : 'none';\n",
              "\n",
              "        async function convertToInteractive(key) {\n",
              "          const element = document.querySelector('#df-58edd32e-1527-4776-8480-79025b58e73b');\n",
              "          const dataTable =\n",
              "            await google.colab.kernel.invokeFunction('convertToInteractive',\n",
              "                                                     [key], {});\n",
              "          if (!dataTable) return;\n",
              "\n",
              "          const docLinkHtml = 'Like what you see? Visit the ' +\n",
              "            '<a target=\"_blank\" href=https://colab.research.google.com/notebooks/data_table.ipynb>data table notebook</a>'\n",
              "            + ' to learn more about interactive tables.';\n",
              "          element.innerHTML = '';\n",
              "          dataTable['output_type'] = 'display_data';\n",
              "          await google.colab.output.renderOutput(dataTable, element);\n",
              "          const docLink = document.createElement('div');\n",
              "          docLink.innerHTML = docLinkHtml;\n",
              "          element.appendChild(docLink);\n",
              "        }\n",
              "      </script>\n",
              "    </div>\n",
              "  </div>\n",
              "  "
            ]
          },
          "metadata": {},
          "execution_count": 212
        }
      ]
    },
    {
      "cell_type": "code",
      "source": [
        "data_exec_result = pd.DataFrame(columns = ['number_of_trades','gross_p_n_l','average_p_n_l'])\n",
        "data_exec_result['number_of_trades'] = data_1_fin_btcustd[' Number_of_trades']\n",
        "data_exec_result['gross_p_n_l'] = data_1_fin_btcustd['gross_p_n_l']\n",
        "data_exec_result['average_p_n_l'] = data_1_fin_btcustd['average_win_p_n_l']\n",
        "print(data_exec_result)"
      ],
      "metadata": {
        "colab": {
          "base_uri": "https://localhost:8080/"
        },
        "id": "AXfGCAoCkCAB",
        "outputId": "59f6b93a-c5d7-4aef-aa6f-eb8bd0fd057a"
      },
      "execution_count": 216,
      "outputs": [
        {
          "output_type": "stream",
          "name": "stdout",
          "text": [
            "   number_of_trades  gross_p_n_l  average_p_n_l\n",
            "0        2701611024   362.692937     212.141525\n",
            "1        2550792948   127.308568     212.141525\n",
            "2        2192152098   146.423071     212.141525\n"
          ]
        }
      ]
    },
    {
      "cell_type": "code",
      "source": [
        ""
      ],
      "metadata": {
        "id": "JAeY-3v1lKS6"
      },
      "execution_count": null,
      "outputs": []
    }
  ]
}