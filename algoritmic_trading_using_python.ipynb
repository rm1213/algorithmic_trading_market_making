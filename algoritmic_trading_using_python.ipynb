{
  "nbformat": 4,
  "nbformat_minor": 0,
  "metadata": {
    "colab": {
      "name": "algoritmic_trading_using_python.ipynb",
      "provenance": [],
      "collapsed_sections": []
    },
    "kernelspec": {
      "name": "python3",
      "display_name": "Python 3"
    },
    "language_info": {
      "name": "python"
    }
  },
  "cells": [
    {
      "cell_type": "code",
      "execution_count": null,
      "metadata": {
        "id": "FTidvA2ErQjz"
      },
      "outputs": [],
      "source": [
        "import math\n",
        "import pandas as pd\n",
        "import numpy as np\n",
        "import matplotlib.pyplot as plt\n",
        "import zipfile\n",
        "import random"
      ]
    },
    {
      "cell_type": "code",
      "source": [
        "!wget \"https://data.binance.vision/data/spot/daily/trades/BTCUSDT/BTCUSDT-trades-2022-03-01.zip\""
      ],
      "metadata": {
        "colab": {
          "base_uri": "https://localhost:8080/"
        },
        "id": "pFl0_JDErXnX",
        "outputId": "903edf3b-db7e-4b9f-e8ec-25781b27f2ae"
      },
      "execution_count": null,
      "outputs": [
        {
          "output_type": "stream",
          "name": "stdout",
          "text": [
            "--2022-04-09 18:27:05--  https://data.binance.vision/data/spot/daily/trades/BTCUSDT/BTCUSDT-trades-2022-03-01.zip\n",
            "Resolving data.binance.vision (data.binance.vision)... 13.224.2.128, 13.224.2.48, 13.224.2.55, ...\n",
            "Connecting to data.binance.vision (data.binance.vision)|13.224.2.128|:443... connected.\n",
            "HTTP request sent, awaiting response... 200 OK\n",
            "Length: 27964373 (27M) [application/zip]\n",
            "Saving to: ‘BTCUSDT-trades-2022-03-01.zip’\n",
            "\n",
            "BTCUSDT-trades-2022 100%[===================>]  26.67M  22.1MB/s    in 1.2s    \n",
            "\n",
            "2022-04-09 18:27:07 (22.1 MB/s) - ‘BTCUSDT-trades-2022-03-01.zip’ saved [27964373/27964373]\n",
            "\n"
          ]
        }
      ]
    },
    {
      "cell_type": "code",
      "source": [
        "!wget \"https://data.binance.vision/data/spot/daily/trades/BTCUSDT/BTCUSDT-trades-2022-03-02.zip\""
      ],
      "metadata": {
        "colab": {
          "base_uri": "https://localhost:8080/"
        },
        "id": "1Y2Gw0U5scT9",
        "outputId": "e940770d-deda-4f75-cd13-34190ea7cd09"
      },
      "execution_count": null,
      "outputs": [
        {
          "output_type": "stream",
          "name": "stdout",
          "text": [
            "--2022-04-09 18:27:07--  https://data.binance.vision/data/spot/daily/trades/BTCUSDT/BTCUSDT-trades-2022-03-02.zip\n",
            "Resolving data.binance.vision (data.binance.vision)... 13.224.2.128, 13.224.2.48, 13.224.2.55, ...\n",
            "Connecting to data.binance.vision (data.binance.vision)|13.224.2.128|:443... connected.\n",
            "HTTP request sent, awaiting response... 200 OK\n",
            "Length: 24532573 (23M) [application/zip]\n",
            "Saving to: ‘BTCUSDT-trades-2022-03-02.zip’\n",
            "\n",
            "BTCUSDT-trades-2022 100%[===================>]  23.40M  19.7MB/s    in 1.2s    \n",
            "\n",
            "2022-04-09 18:27:08 (19.7 MB/s) - ‘BTCUSDT-trades-2022-03-02.zip’ saved [24532573/24532573]\n",
            "\n"
          ]
        }
      ]
    },
    {
      "cell_type": "code",
      "source": [
        "!wget \"https://data.binance.vision/data/spot/daily/trades/BTCUSDT/BTCUSDT-trades-2022-03-03.zip\""
      ],
      "metadata": {
        "colab": {
          "base_uri": "https://localhost:8080/"
        },
        "id": "HAPM3MCqtKMu",
        "outputId": "5f7d619b-0949-4f76-df9e-34611dff44d6"
      },
      "execution_count": null,
      "outputs": [
        {
          "output_type": "stream",
          "name": "stdout",
          "text": [
            "--2022-04-09 18:27:08--  https://data.binance.vision/data/spot/daily/trades/BTCUSDT/BTCUSDT-trades-2022-03-03.zip\n",
            "Resolving data.binance.vision (data.binance.vision)... 13.224.2.128, 13.224.2.48, 13.224.2.55, ...\n",
            "Connecting to data.binance.vision (data.binance.vision)|13.224.2.128|:443... connected.\n",
            "HTTP request sent, awaiting response... 200 OK\n",
            "Length: 19166497 (18M) [application/zip]\n",
            "Saving to: ‘BTCUSDT-trades-2022-03-03.zip’\n",
            "\n",
            "BTCUSDT-trades-2022 100%[===================>]  18.28M  18.0MB/s    in 1.0s    \n",
            "\n",
            "2022-04-09 18:27:10 (18.0 MB/s) - ‘BTCUSDT-trades-2022-03-03.zip’ saved [19166497/19166497]\n",
            "\n"
          ]
        }
      ]
    },
    {
      "cell_type": "code",
      "source": [
        "data_1 = zipfile.ZipFile(\"/content/BTCUSDT-trades-2022-03-01.zip\", \"r\")\n",
        "data_1.extractall()\n",
        "#data_1.close()"
      ],
      "metadata": {
        "id": "89_8tGLMtmuo"
      },
      "execution_count": null,
      "outputs": []
    },
    {
      "cell_type": "code",
      "source": [
        "data_11 = zipfile.ZipFile(\"/content/BTCUSDT-trades-2022-03-02.zip\", \"r\")\n",
        "data_11.extractall()"
      ],
      "metadata": {
        "id": "4tUcTKk5vt_H"
      },
      "execution_count": null,
      "outputs": []
    },
    {
      "cell_type": "code",
      "source": [
        "data_111 = zipfile.ZipFile(\"/content/BTCUSDT-trades-2022-03-03.zip\", \"r\")\n",
        "data_111.extractall()"
      ],
      "metadata": {
        "id": "Yoxm0ufzwOGK"
      },
      "execution_count": null,
      "outputs": []
    },
    {
      "cell_type": "code",
      "source": [
        "data_1_fin = pd.read_csv('/content/BTCUSDT-trades-2022-03-01.csv')\n",
        "print(data_1_fin)"
      ],
      "metadata": {
        "colab": {
          "base_uri": "https://localhost:8080/"
        },
        "id": "ULBpfeINwS8p",
        "outputId": "5c003fa2-18aa-4bab-e945-3dfa4498f3c7"
      },
      "execution_count": null,
      "outputs": [
        {
          "output_type": "stream",
          "name": "stdout",
          "text": [
            "         1274557543  43160.00000000  0.00056000  24.16960000  1646092800000  \\\n",
            "0        1274557544        43160.01     0.00052    22.443205  1646092800003   \n",
            "1        1274557545        43160.01     0.00182    78.551218  1646092800004   \n",
            "2        1274557546        43160.01     0.00631   272.339663  1646092800005   \n",
            "3        1274557547        43160.00     0.00229    98.836400  1646092800006   \n",
            "4        1274557548        43160.00     0.00739   318.952400  1646092800007   \n",
            "...             ...             ...         ...          ...            ...   \n",
            "1866865  1276424409        44421.20     0.00120    53.305440  1646179199997   \n",
            "1866866  1276424410        44423.47     0.00057    25.321378  1646179199997   \n",
            "1866867  1276424411        44421.20     0.00029    12.882148  1646179199998   \n",
            "1866868  1276424412        44423.47     0.00037    16.436684  1646179199998   \n",
            "1866869  1276424413        44421.20     0.00125    55.526500  1646179199999   \n",
            "\n",
            "          True  True.1  \n",
            "0        False    True  \n",
            "1        False    True  \n",
            "2        False    True  \n",
            "3         True    True  \n",
            "4         True    True  \n",
            "...        ...     ...  \n",
            "1866865   True    True  \n",
            "1866866  False    True  \n",
            "1866867   True    True  \n",
            "1866868  False    True  \n",
            "1866869   True    True  \n",
            "\n",
            "[1866870 rows x 7 columns]\n"
          ]
        }
      ]
    },
    {
      "cell_type": "code",
      "source": [
        "data_11_fin = pd.read_csv('/content/BTCUSDT-trades-2022-03-02.csv')\n",
        "print(data_11_fin)"
      ],
      "metadata": {
        "colab": {
          "base_uri": "https://localhost:8080/"
        },
        "id": "Nho3h0C1wZFv",
        "outputId": "d5a62c64-6ed8-460d-c72e-930bdeffff14"
      },
      "execution_count": null,
      "outputs": [
        {
          "output_type": "stream",
          "name": "stdout",
          "text": [
            "         1276424414  44421.20000000  0.00097000  43.08856400  1646179200000  \\\n",
            "0        1276424415        44423.46     0.00154    68.412128  1646179200002   \n",
            "1        1276424416        44423.46     0.00039    17.325149  1646179200003   \n",
            "2        1276424417        44421.20     0.00328   145.701536  1646179200003   \n",
            "3        1276424418        44423.46     0.00075    33.317595  1646179200005   \n",
            "4        1276424419        44423.46     0.00276   122.608750  1646179200007   \n",
            "...             ...             ...         ...          ...            ...   \n",
            "1653125  1278077540        43892.98     0.00040    17.557192  1646265599998   \n",
            "1653126  1278077541        43892.98     0.00159    69.789838  1646265599999   \n",
            "1653127  1278077542        43892.99     0.00064    28.091514  1646265599999   \n",
            "1653128  1278077543        43892.98     0.00054    23.702209  1646265599999   \n",
            "1653129  1278077544        43892.98     0.00061    26.774718  1646265599999   \n",
            "\n",
            "          True  True.1  \n",
            "0        False    True  \n",
            "1        False    True  \n",
            "2         True    True  \n",
            "3        False    True  \n",
            "4        False    True  \n",
            "...        ...     ...  \n",
            "1653125   True    True  \n",
            "1653126   True    True  \n",
            "1653127  False    True  \n",
            "1653128   True    True  \n",
            "1653129   True    True  \n",
            "\n",
            "[1653130 rows x 7 columns]\n"
          ]
        }
      ]
    },
    {
      "cell_type": "code",
      "source": [
        "data_111_fin = pd.read_csv('/content/BTCUSDT-trades-2022-03-03.csv')\n",
        "print(data_111_fin)"
      ],
      "metadata": {
        "colab": {
          "base_uri": "https://localhost:8080/"
        },
        "id": "vkaPIiMJwhAd",
        "outputId": "e89188a9-08f7-472e-c789-9f6772340a5b"
      },
      "execution_count": null,
      "outputs": [
        {
          "output_type": "stream",
          "name": "stdout",
          "text": [
            "         1278077545  43892.99000000  0.00158000  69.35092420  1646265600000  \\\n",
            "0        1278077546        43892.99     0.00066    28.969373  1646265600000   \n",
            "1        1278077547        43892.98     0.00136    59.694453  1646265600000   \n",
            "2        1278077548        43892.99     0.00045    19.751846  1646265600000   \n",
            "3        1278077549        43892.98     0.00048    21.068630  1646265600001   \n",
            "4        1278077550        43892.99     0.00029    12.728967  1646265600001   \n",
            "...             ...             ...         ...          ...            ...   \n",
            "1289314  1279366860        42454.01     0.00124    52.642972  1646351999996   \n",
            "1289315  1279366861        42454.00     0.00257   109.106780  1646351999996   \n",
            "1289316  1279366862        42454.01     0.00054    22.925165  1646351999997   \n",
            "1289317  1279366863        42454.01     0.00198    84.058940  1646351999997   \n",
            "1289318  1279366864        42454.00     0.00052    22.076080  1646351999999   \n",
            "\n",
            "         False  True  \n",
            "0        False  True  \n",
            "1         True  True  \n",
            "2        False  True  \n",
            "3         True  True  \n",
            "4        False  True  \n",
            "...        ...   ...  \n",
            "1289314  False  True  \n",
            "1289315   True  True  \n",
            "1289316  False  True  \n",
            "1289317  False  True  \n",
            "1289318   True  True  \n",
            "\n",
            "[1289319 rows x 7 columns]\n"
          ]
        }
      ]
    },
    {
      "cell_type": "code",
      "source": [
        "data_1_fin.columns = ['id','price','qty','ask','time','isBuyermaker','isBestMatch']\n",
        "print(data_1_fin)"
      ],
      "metadata": {
        "colab": {
          "base_uri": "https://localhost:8080/"
        },
        "id": "S18CBEERxHIC",
        "outputId": "135088e8-78b2-44c2-a1ee-3c2dba9dabef"
      },
      "execution_count": null,
      "outputs": [
        {
          "output_type": "stream",
          "name": "stdout",
          "text": [
            "                 id     price      qty         ask           time  \\\n",
            "0        1274557544  43160.01  0.00052   22.443205  1646092800003   \n",
            "1        1274557545  43160.01  0.00182   78.551218  1646092800004   \n",
            "2        1274557546  43160.01  0.00631  272.339663  1646092800005   \n",
            "3        1274557547  43160.00  0.00229   98.836400  1646092800006   \n",
            "4        1274557548  43160.00  0.00739  318.952400  1646092800007   \n",
            "...             ...       ...      ...         ...            ...   \n",
            "1866865  1276424409  44421.20  0.00120   53.305440  1646179199997   \n",
            "1866866  1276424410  44423.47  0.00057   25.321378  1646179199997   \n",
            "1866867  1276424411  44421.20  0.00029   12.882148  1646179199998   \n",
            "1866868  1276424412  44423.47  0.00037   16.436684  1646179199998   \n",
            "1866869  1276424413  44421.20  0.00125   55.526500  1646179199999   \n",
            "\n",
            "         isBuyermaker  isBestMatch  \n",
            "0               False         True  \n",
            "1               False         True  \n",
            "2               False         True  \n",
            "3                True         True  \n",
            "4                True         True  \n",
            "...               ...          ...  \n",
            "1866865          True         True  \n",
            "1866866         False         True  \n",
            "1866867          True         True  \n",
            "1866868         False         True  \n",
            "1866869          True         True  \n",
            "\n",
            "[1866870 rows x 7 columns]\n"
          ]
        }
      ]
    },
    {
      "cell_type": "code",
      "source": [
        "data_11_fin.columns = ['id','price','qty','ask','time','isBuyermaker','isBestMatch']\n",
        "print(data_11_fin)"
      ],
      "metadata": {
        "colab": {
          "base_uri": "https://localhost:8080/"
        },
        "id": "s3DcLiby-jOs",
        "outputId": "97d15d6b-f980-44ee-8e8e-52f2577bae29"
      },
      "execution_count": null,
      "outputs": [
        {
          "output_type": "stream",
          "name": "stdout",
          "text": [
            "                 id     price      qty         ask           time  \\\n",
            "0        1276424415  44423.46  0.00154   68.412128  1646179200002   \n",
            "1        1276424416  44423.46  0.00039   17.325149  1646179200003   \n",
            "2        1276424417  44421.20  0.00328  145.701536  1646179200003   \n",
            "3        1276424418  44423.46  0.00075   33.317595  1646179200005   \n",
            "4        1276424419  44423.46  0.00276  122.608750  1646179200007   \n",
            "...             ...       ...      ...         ...            ...   \n",
            "1653125  1278077540  43892.98  0.00040   17.557192  1646265599998   \n",
            "1653126  1278077541  43892.98  0.00159   69.789838  1646265599999   \n",
            "1653127  1278077542  43892.99  0.00064   28.091514  1646265599999   \n",
            "1653128  1278077543  43892.98  0.00054   23.702209  1646265599999   \n",
            "1653129  1278077544  43892.98  0.00061   26.774718  1646265599999   \n",
            "\n",
            "         isBuyermaker  isBestMatch  \n",
            "0               False         True  \n",
            "1               False         True  \n",
            "2                True         True  \n",
            "3               False         True  \n",
            "4               False         True  \n",
            "...               ...          ...  \n",
            "1653125          True         True  \n",
            "1653126          True         True  \n",
            "1653127         False         True  \n",
            "1653128          True         True  \n",
            "1653129          True         True  \n",
            "\n",
            "[1653130 rows x 7 columns]\n"
          ]
        }
      ]
    },
    {
      "cell_type": "code",
      "source": [
        "data_111_fin.columns = ['id','price','qty','ask','time','isBuyermaker','isBestMatch']\n",
        "print(data_111_fin)"
      ],
      "metadata": {
        "colab": {
          "base_uri": "https://localhost:8080/"
        },
        "id": "6JagS7Zp-oLR",
        "outputId": "9919fbc6-6808-4c4f-d811-c7c26293016f"
      },
      "execution_count": null,
      "outputs": [
        {
          "output_type": "stream",
          "name": "stdout",
          "text": [
            "                 id     price      qty         ask           time  \\\n",
            "0        1278077546  43892.99  0.00066   28.969373  1646265600000   \n",
            "1        1278077547  43892.98  0.00136   59.694453  1646265600000   \n",
            "2        1278077548  43892.99  0.00045   19.751846  1646265600000   \n",
            "3        1278077549  43892.98  0.00048   21.068630  1646265600001   \n",
            "4        1278077550  43892.99  0.00029   12.728967  1646265600001   \n",
            "...             ...       ...      ...         ...            ...   \n",
            "1289314  1279366860  42454.01  0.00124   52.642972  1646351999996   \n",
            "1289315  1279366861  42454.00  0.00257  109.106780  1646351999996   \n",
            "1289316  1279366862  42454.01  0.00054   22.925165  1646351999997   \n",
            "1289317  1279366863  42454.01  0.00198   84.058940  1646351999997   \n",
            "1289318  1279366864  42454.00  0.00052   22.076080  1646351999999   \n",
            "\n",
            "         isBuyermaker  isBestMatch  \n",
            "0               False         True  \n",
            "1                True         True  \n",
            "2               False         True  \n",
            "3                True         True  \n",
            "4               False         True  \n",
            "...               ...          ...  \n",
            "1289314         False         True  \n",
            "1289315          True         True  \n",
            "1289316         False         True  \n",
            "1289317         False         True  \n",
            "1289318          True         True  \n",
            "\n",
            "[1289319 rows x 7 columns]\n"
          ]
        }
      ]
    },
    {
      "cell_type": "code",
      "source": [
        "data_1_btcusdt_fin = pd.concat([data_1_fin,data_11_fin,data_111_fin],axis=0)\n",
        "print(data_1_btcusdt_fin)"
      ],
      "metadata": {
        "colab": {
          "base_uri": "https://localhost:8080/"
        },
        "id": "BvH5wPn--q6v",
        "outputId": "dedb4313-04cd-46dc-8ea0-ef510afcd425"
      },
      "execution_count": null,
      "outputs": [
        {
          "output_type": "stream",
          "name": "stdout",
          "text": [
            "                 id     price      qty         ask           time  \\\n",
            "0        1274557544  43160.01  0.00052   22.443205  1646092800003   \n",
            "1        1274557545  43160.01  0.00182   78.551218  1646092800004   \n",
            "2        1274557546  43160.01  0.00631  272.339663  1646092800005   \n",
            "3        1274557547  43160.00  0.00229   98.836400  1646092800006   \n",
            "4        1274557548  43160.00  0.00739  318.952400  1646092800007   \n",
            "...             ...       ...      ...         ...            ...   \n",
            "1289314  1279366860  42454.01  0.00124   52.642972  1646351999996   \n",
            "1289315  1279366861  42454.00  0.00257  109.106780  1646351999996   \n",
            "1289316  1279366862  42454.01  0.00054   22.925165  1646351999997   \n",
            "1289317  1279366863  42454.01  0.00198   84.058940  1646351999997   \n",
            "1289318  1279366864  42454.00  0.00052   22.076080  1646351999999   \n",
            "\n",
            "         isBuyermaker  isBestMatch  \n",
            "0               False         True  \n",
            "1               False         True  \n",
            "2               False         True  \n",
            "3                True         True  \n",
            "4                True         True  \n",
            "...               ...          ...  \n",
            "1289314         False         True  \n",
            "1289315          True         True  \n",
            "1289316         False         True  \n",
            "1289317         False         True  \n",
            "1289318          True         True  \n",
            "\n",
            "[4809319 rows x 7 columns]\n"
          ]
        }
      ]
    },
    {
      "cell_type": "code",
      "source": [
        "bid_size = 1000\n",
        "offer_size = 1000\n",
        "buy_margin = 3\n",
        "sell_margin = 3\n",
        "max_pos_hed = 5000"
      ],
      "metadata": {
        "id": "jdYZtboKBZM7"
      },
      "execution_count": null,
      "outputs": []
    },
    {
      "cell_type": "code",
      "source": [
        "print(data_1_btcusdt_fin)"
      ],
      "metadata": {
        "id": "wvCFYNhDGvXa",
        "colab": {
          "base_uri": "https://localhost:8080/"
        },
        "outputId": "d1b2e05f-8e45-45d6-bb1d-b057d895d685"
      },
      "execution_count": null,
      "outputs": [
        {
          "output_type": "stream",
          "name": "stdout",
          "text": [
            "                 id     price      qty         ask           time  \\\n",
            "0        1274557544  43160.01  0.00052   22.443205  1646092800003   \n",
            "1        1274557545  43160.01  0.00182   78.551218  1646092800004   \n",
            "2        1274557546  43160.01  0.00631  272.339663  1646092800005   \n",
            "3        1274557547  43160.00  0.00229   98.836400  1646092800006   \n",
            "4        1274557548  43160.00  0.00739  318.952400  1646092800007   \n",
            "...             ...       ...      ...         ...            ...   \n",
            "1289314  1279366860  42454.01  0.00124   52.642972  1646351999996   \n",
            "1289315  1279366861  42454.00  0.00257  109.106780  1646351999996   \n",
            "1289316  1279366862  42454.01  0.00054   22.925165  1646351999997   \n",
            "1289317  1279366863  42454.01  0.00198   84.058940  1646351999997   \n",
            "1289318  1279366864  42454.00  0.00052   22.076080  1646351999999   \n",
            "\n",
            "         isBuyermaker  isBestMatch  \n",
            "0               False         True  \n",
            "1               False         True  \n",
            "2               False         True  \n",
            "3                True         True  \n",
            "4                True         True  \n",
            "...               ...          ...  \n",
            "1289314         False         True  \n",
            "1289315          True         True  \n",
            "1289316         False         True  \n",
            "1289317         False         True  \n",
            "1289318          True         True  \n",
            "\n",
            "[4809319 rows x 7 columns]\n"
          ]
        }
      ]
    },
    {
      "cell_type": "code",
      "source": [
        "print(data_1_btcusdt_fin['isBestMatch'].value_counts())"
      ],
      "metadata": {
        "colab": {
          "base_uri": "https://localhost:8080/"
        },
        "id": "3uvzPtKiHpco",
        "outputId": "e59944b7-f481-4719-db05-2e6802193c60"
      },
      "execution_count": null,
      "outputs": [
        {
          "output_type": "stream",
          "name": "stdout",
          "text": [
            "True    4809319\n",
            "Name: isBestMatch, dtype: int64\n"
          ]
        }
      ]
    },
    {
      "cell_type": "code",
      "source": [
        "data_1_btcusdt_fin.rename(columns = {'ask':'quote_qty'},inplace = True)\n",
        "print(data_1_btcusdt_fin)"
      ],
      "metadata": {
        "colab": {
          "base_uri": "https://localhost:8080/"
        },
        "id": "iNELAZev9Q0M",
        "outputId": "dad99265-142c-4475-d8bb-aada95007ddb"
      },
      "execution_count": null,
      "outputs": [
        {
          "output_type": "stream",
          "name": "stdout",
          "text": [
            "                 id     price      qty   quote_qty           time  \\\n",
            "0        1274557544  43160.01  0.00052   22.443205  1646092800003   \n",
            "1        1274557545  43160.01  0.00182   78.551218  1646092800004   \n",
            "2        1274557546  43160.01  0.00631  272.339663  1646092800005   \n",
            "3        1274557547  43160.00  0.00229   98.836400  1646092800006   \n",
            "4        1274557548  43160.00  0.00739  318.952400  1646092800007   \n",
            "...             ...       ...      ...         ...            ...   \n",
            "1289314  1279366860  42454.01  0.00124   52.642972  1646351999996   \n",
            "1289315  1279366861  42454.00  0.00257  109.106780  1646351999996   \n",
            "1289316  1279366862  42454.01  0.00054   22.925165  1646351999997   \n",
            "1289317  1279366863  42454.01  0.00198   84.058940  1646351999997   \n",
            "1289318  1279366864  42454.00  0.00052   22.076080  1646351999999   \n",
            "\n",
            "         isBuyermaker  isBestMatch  \n",
            "0               False         True  \n",
            "1               False         True  \n",
            "2               False         True  \n",
            "3                True         True  \n",
            "4                True         True  \n",
            "...               ...          ...  \n",
            "1289314         False         True  \n",
            "1289315          True         True  \n",
            "1289316         False         True  \n",
            "1289317         False         True  \n",
            "1289318          True         True  \n",
            "\n",
            "[4809319 rows x 7 columns]\n"
          ]
        }
      ]
    },
    {
      "cell_type": "code",
      "source": [
        "sell_data = data_1_btcusdt_fin.loc[data_1_btcusdt_fin['isBuyermaker']==True]\n",
        "print(sell_data)"
      ],
      "metadata": {
        "colab": {
          "base_uri": "https://localhost:8080/"
        },
        "id": "_UDvpeMF767R",
        "outputId": "a3810833-7618-4618-bb02-2d907ea853b1"
      },
      "execution_count": null,
      "outputs": [
        {
          "output_type": "stream",
          "name": "stdout",
          "text": [
            "                 id    price      qty  quote_qty           time  isBuyermaker  \\\n",
            "3        1274557547  43160.0  0.00229   98.83640  1646092800006          True   \n",
            "4        1274557548  43160.0  0.00739  318.95240  1646092800007          True   \n",
            "5        1274557549  43160.0  0.00173   74.66680  1646092800007          True   \n",
            "6        1274557550  43160.0  0.00126   54.38160  1646092800007          True   \n",
            "9        1274557553  43160.0  0.00030   12.94800  1646092800019          True   \n",
            "...             ...      ...      ...        ...            ...           ...   \n",
            "1289310  1279366856  42454.0  0.00225   95.52150  1646351999992          True   \n",
            "1289311  1279366857  42454.0  0.00157   66.65278  1646351999994          True   \n",
            "1289312  1279366858  42454.0  0.00145   61.55830  1646351999994          True   \n",
            "1289315  1279366861  42454.0  0.00257  109.10678  1646351999996          True   \n",
            "1289318  1279366864  42454.0  0.00052   22.07608  1646351999999          True   \n",
            "\n",
            "         isBestMatch  \n",
            "3               True  \n",
            "4               True  \n",
            "5               True  \n",
            "6               True  \n",
            "9               True  \n",
            "...              ...  \n",
            "1289310         True  \n",
            "1289311         True  \n",
            "1289312         True  \n",
            "1289315         True  \n",
            "1289318         True  \n",
            "\n",
            "[2349437 rows x 7 columns]\n"
          ]
        }
      ]
    },
    {
      "cell_type": "code",
      "source": [
        "sell_data = sell_data.reset_index(drop=True)\n",
        "print(sell_data)"
      ],
      "metadata": {
        "colab": {
          "base_uri": "https://localhost:8080/"
        },
        "id": "8OodKu-bPK9m",
        "outputId": "c0b42f2d-37ca-4153-9f2c-ed8dcd6ed68c"
      },
      "execution_count": null,
      "outputs": [
        {
          "output_type": "stream",
          "name": "stdout",
          "text": [
            "                 id    price      qty  quote_qty           time  isBuyermaker  \\\n",
            "0        1274557547  43160.0  0.00229   98.83640  1646092800006          True   \n",
            "1        1274557548  43160.0  0.00739  318.95240  1646092800007          True   \n",
            "2        1274557549  43160.0  0.00173   74.66680  1646092800007          True   \n",
            "3        1274557550  43160.0  0.00126   54.38160  1646092800007          True   \n",
            "4        1274557553  43160.0  0.00030   12.94800  1646092800019          True   \n",
            "...             ...      ...      ...        ...            ...           ...   \n",
            "2349432  1279366856  42454.0  0.00225   95.52150  1646351999992          True   \n",
            "2349433  1279366857  42454.0  0.00157   66.65278  1646351999994          True   \n",
            "2349434  1279366858  42454.0  0.00145   61.55830  1646351999994          True   \n",
            "2349435  1279366861  42454.0  0.00257  109.10678  1646351999996          True   \n",
            "2349436  1279366864  42454.0  0.00052   22.07608  1646351999999          True   \n",
            "\n",
            "         isBestMatch  \n",
            "0               True  \n",
            "1               True  \n",
            "2               True  \n",
            "3               True  \n",
            "4               True  \n",
            "...              ...  \n",
            "2349432         True  \n",
            "2349433         True  \n",
            "2349434         True  \n",
            "2349435         True  \n",
            "2349436         True  \n",
            "\n",
            "[2349437 rows x 7 columns]\n"
          ]
        }
      ]
    },
    {
      "cell_type": "code",
      "source": [
        "buy_data = buy_data.reset_index(drop=True)\n",
        "print(buy_data)"
      ],
      "metadata": {
        "colab": {
          "base_uri": "https://localhost:8080/"
        },
        "id": "VMaM11RkPWzt",
        "outputId": "5b816a97-a69e-4586-f983-366c39341661"
      },
      "execution_count": null,
      "outputs": [
        {
          "output_type": "stream",
          "name": "stdout",
          "text": [
            "                 id     price      qty    quote_qty           time  \\\n",
            "0        1274557544  43160.01  0.00052    22.443205  1646092800003   \n",
            "1        1274557545  43160.01  0.00182    78.551218  1646092800004   \n",
            "2        1274557546  43160.01  0.00631   272.339663  1646092800005   \n",
            "3        1274557551  43160.01  0.02358  1017.713036  1646092800010   \n",
            "4        1274557552  43160.01  0.02329  1005.196633  1646092800010   \n",
            "...             ...       ...      ...          ...            ...   \n",
            "2349432  1279138718  42264.17  0.00026    10.988684  1646332810953   \n",
            "2349433  1279138719  42264.17  0.01892   799.638096  1646332810953   \n",
            "2349434  1279138720  42264.17  0.00737   311.486933  1646332810953   \n",
            "2349435  1279138721  42264.17  0.00033    13.947176  1646332810953   \n",
            "2349436  1279138722  42264.17  0.00001     0.422642  1646332810964   \n",
            "\n",
            "         isBuyermaker  isBestMatch  \n",
            "0               False         True  \n",
            "1               False         True  \n",
            "2               False         True  \n",
            "3               False         True  \n",
            "4               False         True  \n",
            "...               ...          ...  \n",
            "2349432         False         True  \n",
            "2349433         False         True  \n",
            "2349434         False         True  \n",
            "2349435         False         True  \n",
            "2349436         False         True  \n",
            "\n",
            "[2349437 rows x 7 columns]\n"
          ]
        }
      ]
    },
    {
      "cell_type": "code",
      "source": [
        "buy_data = data_1_btcusdt_fin.loc[data_1_btcusdt_fin['isBuyermaker']==False]\n",
        "print(buy_data)\n",
        "buy_data = buy_data.iloc[0:2349437]\n",
        "print(buy_data)"
      ],
      "metadata": {
        "colab": {
          "base_uri": "https://localhost:8080/"
        },
        "id": "ljTds9kh8RgW",
        "outputId": "7c733254-4d33-4764-ce11-1bda49c58c55"
      },
      "execution_count": null,
      "outputs": [
        {
          "output_type": "stream",
          "name": "stdout",
          "text": [
            "                 id     price      qty    quote_qty           time  \\\n",
            "0        1274557544  43160.01  0.00052    22.443205  1646092800003   \n",
            "1        1274557545  43160.01  0.00182    78.551218  1646092800004   \n",
            "2        1274557546  43160.01  0.00631   272.339663  1646092800005   \n",
            "7        1274557551  43160.01  0.02358  1017.713036  1646092800010   \n",
            "8        1274557552  43160.01  0.02329  1005.196633  1646092800010   \n",
            "...             ...       ...      ...          ...            ...   \n",
            "1289308  1279366854  42454.01  0.00284   120.569388  1646351999870   \n",
            "1289313  1279366859  42454.01  0.00772   327.744957  1646351999995   \n",
            "1289314  1279366860  42454.01  0.00124    52.642972  1646351999996   \n",
            "1289316  1279366862  42454.01  0.00054    22.925165  1646351999997   \n",
            "1289317  1279366863  42454.01  0.00198    84.058940  1646351999997   \n",
            "\n",
            "         isBuyermaker  isBestMatch  \n",
            "0               False         True  \n",
            "1               False         True  \n",
            "2               False         True  \n",
            "7               False         True  \n",
            "8               False         True  \n",
            "...               ...          ...  \n",
            "1289308         False         True  \n",
            "1289313         False         True  \n",
            "1289314         False         True  \n",
            "1289316         False         True  \n",
            "1289317         False         True  \n",
            "\n",
            "[2459882 rows x 7 columns]\n",
            "                 id     price      qty    quote_qty           time  \\\n",
            "0        1274557544  43160.01  0.00052    22.443205  1646092800003   \n",
            "1        1274557545  43160.01  0.00182    78.551218  1646092800004   \n",
            "2        1274557546  43160.01  0.00631   272.339663  1646092800005   \n",
            "7        1274557551  43160.01  0.02358  1017.713036  1646092800010   \n",
            "8        1274557552  43160.01  0.02329  1005.196633  1646092800010   \n",
            "...             ...       ...      ...          ...            ...   \n",
            "1061172  1279138718  42264.17  0.00026    10.988684  1646332810953   \n",
            "1061173  1279138719  42264.17  0.01892   799.638096  1646332810953   \n",
            "1061174  1279138720  42264.17  0.00737   311.486933  1646332810953   \n",
            "1061175  1279138721  42264.17  0.00033    13.947176  1646332810953   \n",
            "1061176  1279138722  42264.17  0.00001     0.422642  1646332810964   \n",
            "\n",
            "         isBuyermaker  isBestMatch  \n",
            "0               False         True  \n",
            "1               False         True  \n",
            "2               False         True  \n",
            "7               False         True  \n",
            "8               False         True  \n",
            "...               ...          ...  \n",
            "1061172         False         True  \n",
            "1061173         False         True  \n",
            "1061174         False         True  \n",
            "1061175         False         True  \n",
            "1061176         False         True  \n",
            "\n",
            "[2349437 rows x 7 columns]\n"
          ]
        }
      ]
    },
    {
      "cell_type": "code",
      "source": [
        "low_ask_price = np.min(sell_data['price'])\n",
        "print(low_ask_price)"
      ],
      "metadata": {
        "colab": {
          "base_uri": "https://localhost:8080/"
        },
        "id": "8R-QpG7283mB",
        "outputId": "54a5f68d-fac2-494a-e7ca-49d5847c1d08"
      },
      "execution_count": null,
      "outputs": [
        {
          "output_type": "stream",
          "name": "stdout",
          "text": [
            "41832.28\n"
          ]
        }
      ]
    },
    {
      "cell_type": "code",
      "source": [
        "high_bid_price = np.max(buy_data['price'])\n",
        "print(high_bid_price)"
      ],
      "metadata": {
        "colab": {
          "base_uri": "https://localhost:8080/"
        },
        "id": "Gwe0em6O-TOj",
        "outputId": "bdc17fe6-2517-448d-a2bf-721321c12d55"
      },
      "execution_count": null,
      "outputs": [
        {
          "output_type": "stream",
          "name": "stdout",
          "text": [
            "45400.0\n"
          ]
        }
      ]
    },
    {
      "cell_type": "code",
      "source": [
        "actual_bid_size = high_bid_price-low_ask_price\n",
        "print(actual_bid_size)"
      ],
      "metadata": {
        "colab": {
          "base_uri": "https://localhost:8080/"
        },
        "id": "r9BeznpT-a86",
        "outputId": "86138a57-45bf-4efd-d1dd-1630ed5c8c6a"
      },
      "execution_count": null,
      "outputs": [
        {
          "output_type": "stream",
          "name": "stdout",
          "text": [
            "3567.720000000001\n"
          ]
        }
      ]
    },
    {
      "cell_type": "code",
      "source": [
        "def_bid_size = bid_size\n",
        "print(def_bid_size)"
      ],
      "metadata": {
        "colab": {
          "base_uri": "https://localhost:8080/"
        },
        "id": "Br_S-i3A--wG",
        "outputId": "33c66ace-65f9-4fb5-9210-344e9ce2393f"
      },
      "execution_count": null,
      "outputs": [
        {
          "output_type": "stream",
          "name": "stdout",
          "text": [
            "1000\n"
          ]
        }
      ]
    },
    {
      "cell_type": "code",
      "source": [
        "buy_data['tot_val_base_asset'] = buy_data['price']*buy_data['qty']\n",
        "buy_data['tot_val_quote_asset'] = buy_data['price']*buy_data['quote_qty']\n",
        "print(buy_data['tot_val_base_asset'])\n",
        "print(buy_data['tot_val_quote_asset'])"
      ],
      "metadata": {
        "colab": {
          "base_uri": "https://localhost:8080/"
        },
        "id": "mj1gBPCd_H_5",
        "outputId": "4f2c8975-4f9d-4c76-cfb8-bc63507466bb"
      },
      "execution_count": null,
      "outputs": [
        {
          "output_type": "stream",
          "name": "stdout",
          "text": [
            "0            22.443205\n",
            "1            78.551218\n",
            "2           272.339663\n",
            "3          1017.713036\n",
            "4          1005.196633\n",
            "              ...     \n",
            "2349432      10.988684\n",
            "2349433     799.638096\n",
            "2349434     311.486933\n",
            "2349435      13.947176\n",
            "2349436       0.422642\n",
            "Name: tot_val_base_asset, Length: 2349437, dtype: float64\n",
            "0          9.686490e+05\n",
            "1          3.390271e+06\n",
            "2          1.175418e+07\n",
            "3          4.392450e+07\n",
            "4          4.338430e+07\n",
            "               ...     \n",
            "2349432    4.644276e+05\n",
            "2349433    3.379604e+07\n",
            "2349434    1.316474e+07\n",
            "2349435    5.894658e+05\n",
            "2349436    1.786260e+04\n",
            "Name: tot_val_quote_asset, Length: 2349437, dtype: float64\n"
          ]
        }
      ]
    },
    {
      "cell_type": "code",
      "source": [
        "best_buying_price = np.max(buy_data['price'])+def_bid_size\n",
        "print(best_buying_price)"
      ],
      "metadata": {
        "colab": {
          "base_uri": "https://localhost:8080/"
        },
        "id": "HUMkT9egB2ok",
        "outputId": "63e8ae18-ad13-40de-adb1-d99e68b29469"
      },
      "execution_count": null,
      "outputs": [
        {
          "output_type": "stream",
          "name": "stdout",
          "text": [
            "46400.0\n"
          ]
        }
      ]
    },
    {
      "cell_type": "code",
      "source": [
        "best_selling_price = np.min(sell_data['price'])+offer_size\n",
        "print(best_buying_price)"
      ],
      "metadata": {
        "colab": {
          "base_uri": "https://localhost:8080/"
        },
        "id": "v3H-KHy6I-kd",
        "outputId": "d4d6338f-1d5e-4c90-dd33-e60315472689"
      },
      "execution_count": null,
      "outputs": [
        {
          "output_type": "stream",
          "name": "stdout",
          "text": [
            "46400.0\n"
          ]
        }
      ]
    },
    {
      "cell_type": "code",
      "source": [
        "buy_data['new_buying_price'] = np.random.uniform(high_bid_price,best_buying_price,2349437)\n",
        "print(buy_data['new_buying_price'])"
      ],
      "metadata": {
        "colab": {
          "base_uri": "https://localhost:8080/"
        },
        "id": "SQ1IoUlUDnYh",
        "outputId": "aa04863d-869a-49f1-d79d-6f2fe39e4f1b"
      },
      "execution_count": null,
      "outputs": [
        {
          "output_type": "stream",
          "name": "stdout",
          "text": [
            "0          46166.710293\n",
            "1          45512.936642\n",
            "2          46323.522082\n",
            "3          45656.766494\n",
            "4          45848.574647\n",
            "               ...     \n",
            "2349432    46294.358823\n",
            "2349433    46259.419293\n",
            "2349434    46082.126117\n",
            "2349435    45775.737182\n",
            "2349436    46247.037055\n",
            "Name: new_buying_price, Length: 2349437, dtype: float64\n"
          ]
        }
      ]
    },
    {
      "cell_type": "code",
      "source": [
        "sell_data['new_selling_price'] = np.random.uniform(low_ask_price,best_selling_price,2349437)\n",
        "print(sell_data['new_selling_price'])"
      ],
      "metadata": {
        "colab": {
          "base_uri": "https://localhost:8080/"
        },
        "id": "xMxopDOZJF7G",
        "outputId": "6a3bbade-af38-411f-c871-c35fd4c2b455"
      },
      "execution_count": null,
      "outputs": [
        {
          "output_type": "stream",
          "name": "stdout",
          "text": [
            "0          42718.827669\n",
            "1          42701.633514\n",
            "2          42230.743797\n",
            "3          42424.318449\n",
            "4          42046.587926\n",
            "               ...     \n",
            "2349432    42781.864765\n",
            "2349433    41891.740697\n",
            "2349434    42376.274540\n",
            "2349435    42759.434838\n",
            "2349436    42743.299953\n",
            "Name: new_selling_price, Length: 2349437, dtype: float64\n"
          ]
        }
      ]
    },
    {
      "cell_type": "code",
      "source": [
        "trade_results = pd.DataFrame(columns = ['Trade_match','buy_val','sell_val','prev_buy_val','prev_sell_val','profit','loss','position_hedged'])\n",
        "print(trade_results)"
      ],
      "metadata": {
        "colab": {
          "base_uri": "https://localhost:8080/"
        },
        "id": "qcF1901dFHvW",
        "outputId": "cb111091-f43e-460a-92d6-a517e5401774"
      },
      "execution_count": null,
      "outputs": [
        {
          "output_type": "stream",
          "name": "stdout",
          "text": [
            "Empty DataFrame\n",
            "Columns: [Trade_match, buy_val, sell_val, prev_buy_val, prev_sell_val, profit, loss, position_hedged]\n",
            "Index: []\n"
          ]
        }
      ]
    },
    {
      "cell_type": "code",
      "source": [
        "buy_val = buy_data['new_buying_price']\n",
        "sell_val = sell_data['new_selling_price']\n",
        "prev_buy_val = buy_data['price']\n",
        "prev_sell_val = sell_data['price']"
      ],
      "metadata": {
        "id": "ndhIRZHYOFFn"
      },
      "execution_count": null,
      "outputs": []
    },
    {
      "cell_type": "code",
      "source": [
        "trade_results['buy_val'] = buy_val\n",
        "trade_results['sell_val'] = sell_val\n",
        "trade_results['prev_buy_val'] = prev_buy_val\n",
        "trade_results['prev_sell_val'] = prev_sell_val"
      ],
      "metadata": {
        "id": "jIGnh_ZQQUXi"
      },
      "execution_count": null,
      "outputs": []
    },
    {
      "cell_type": "code",
      "source": [
        "print(trade_results)"
      ],
      "metadata": {
        "colab": {
          "base_uri": "https://localhost:8080/"
        },
        "id": "ND1DWZMnQ4Ak",
        "outputId": "3a488754-eb0e-43f0-c310-2ee8c0b340bd"
      },
      "execution_count": null,
      "outputs": [
        {
          "output_type": "stream",
          "name": "stdout",
          "text": [
            "        Trade_match       buy_val      sell_val  prev_buy_val  prev_sell_val  \\\n",
            "0               NaN  46166.710293  42718.827669      43160.01        43160.0   \n",
            "1               NaN  45512.936642  42701.633514      43160.01        43160.0   \n",
            "2               NaN  46323.522082  42230.743797      43160.01        43160.0   \n",
            "3               NaN  45656.766494  42424.318449      43160.01        43160.0   \n",
            "4               NaN  45848.574647  42046.587926      43160.01        43160.0   \n",
            "...             ...           ...           ...           ...            ...   \n",
            "2349432         NaN  46294.358823  42781.864765      42264.17        42454.0   \n",
            "2349433         NaN  46259.419293  41891.740697      42264.17        42454.0   \n",
            "2349434         NaN  46082.126117  42376.274540      42264.17        42454.0   \n",
            "2349435         NaN  45775.737182  42759.434838      42264.17        42454.0   \n",
            "2349436         NaN  46247.037055  42743.299953      42264.17        42454.0   \n",
            "\n",
            "        profit loss position_hedged  \n",
            "0          NaN  NaN             NaN  \n",
            "1          NaN  NaN             NaN  \n",
            "2          NaN  NaN             NaN  \n",
            "3          NaN  NaN             NaN  \n",
            "4          NaN  NaN             NaN  \n",
            "...        ...  ...             ...  \n",
            "2349432    NaN  NaN             NaN  \n",
            "2349433    NaN  NaN             NaN  \n",
            "2349434    NaN  NaN             NaN  \n",
            "2349435    NaN  NaN             NaN  \n",
            "2349436    NaN  NaN             NaN  \n",
            "\n",
            "[2349437 rows x 8 columns]\n"
          ]
        }
      ]
    },
    {
      "cell_type": "code",
      "source": [
        "trade_results['Trade_match'] = np.where((trade_results['buy_val']>trade_results['prev_sell_val']) | (trade_results['sell_val']>trade_results['prev_buy_val']),True,False)\n",
        "print(trade_results['Trade_match'].value_counts())"
      ],
      "metadata": {
        "colab": {
          "base_uri": "https://localhost:8080/"
        },
        "id": "CzUtJof_Q59l",
        "outputId": "425c4fad-57b7-4706-b308-d2b90eee3569"
      },
      "execution_count": null,
      "outputs": [
        {
          "output_type": "stream",
          "name": "stdout",
          "text": [
            "True    2349437\n",
            "Name: Trade_match, dtype: int64\n"
          ]
        }
      ]
    },
    {
      "cell_type": "code",
      "source": [
        "trade_results['difference_buy'] = difference_1\n",
        "trade_results['difference_sell'] = difference_2"
      ],
      "metadata": {
        "id": "PlqcO8HzoGHy"
      },
      "execution_count": null,
      "outputs": []
    },
    {
      "cell_type": "code",
      "source": [
        "print(trade_results)"
      ],
      "metadata": {
        "colab": {
          "base_uri": "https://localhost:8080/"
        },
        "id": "5puHeZ8hoOfK",
        "outputId": "ad10ef77-3495-4617-c6a0-4dd0d732848f"
      },
      "execution_count": null,
      "outputs": [
        {
          "output_type": "stream",
          "name": "stdout",
          "text": [
            "         Trade_match       buy_val      sell_val  prev_buy_val  prev_sell_val  \\\n",
            "0               True  46166.710293  42718.827669      43160.01        43160.0   \n",
            "1               True  45512.936642  42701.633514      43160.01        43160.0   \n",
            "2               True  46323.522082  42230.743797      43160.01        43160.0   \n",
            "3               True  45656.766494  42424.318449      43160.01        43160.0   \n",
            "4               True  45848.574647  42046.587926      43160.01        43160.0   \n",
            "...              ...           ...           ...           ...            ...   \n",
            "2349432         True  46294.358823  42781.864765      42264.17        42454.0   \n",
            "2349433         True  46259.419293  41891.740697      42264.17        42454.0   \n",
            "2349434         True  46082.126117  42376.274540      42264.17        42454.0   \n",
            "2349435         True  45775.737182  42759.434838      42264.17        42454.0   \n",
            "2349436         True  46247.037055  42743.299953      42264.17        42454.0   \n",
            "\n",
            "        profit loss position_hedged     gross_val  difference_buy  \\\n",
            "0          NaN  NaN             NaN  2.387534e+04     3006.710293   \n",
            "1          NaN  NaN             NaN  3.862576e+04     2352.936642   \n",
            "2          NaN  NaN             NaN  7.921672e+05     3163.522082   \n",
            "3          NaN  NaN             NaN  2.500984e+06     2496.766494   \n",
            "4          NaN  NaN             NaN  2.688130e+06     2688.574647   \n",
            "...        ...  ...             ...           ...             ...   \n",
            "2349432    NaN  NaN             NaN  9.165147e+04     3840.358823   \n",
            "2349433    NaN  NaN             NaN  3.018135e+06     3805.419293   \n",
            "2349434    NaN  NaN             NaN  1.137015e+06     3628.126117   \n",
            "2349435    NaN  NaN             NaN  1.003656e+05     3321.737182   \n",
            "2349436    NaN  NaN             NaN  1.218041e+04     3793.037055   \n",
            "\n",
            "         difference_sell  \n",
            "0            -441.182331  \n",
            "1            -458.376486  \n",
            "2            -929.266203  \n",
            "3            -735.691551  \n",
            "4           -1113.422074  \n",
            "...                  ...  \n",
            "2349432       517.694765  \n",
            "2349433      -372.429303  \n",
            "2349434       112.104540  \n",
            "2349435       495.264838  \n",
            "2349436       479.129953  \n",
            "\n",
            "[2349437 rows x 11 columns]\n"
          ]
        }
      ]
    },
    {
      "cell_type": "code",
      "source": [
        "difference_1 = trade_results['buy_val'] - trade_results['prev_sell_val']\n",
        "print(difference_1)"
      ],
      "metadata": {
        "colab": {
          "base_uri": "https://localhost:8080/"
        },
        "id": "9WnE7XsJRun-",
        "outputId": "c7b37811-f7a3-40fb-b009-b793e1bfef2f"
      },
      "execution_count": null,
      "outputs": [
        {
          "output_type": "stream",
          "name": "stdout",
          "text": [
            "0          3006.710293\n",
            "1          2352.936642\n",
            "2          3163.522082\n",
            "3          2496.766494\n",
            "4          2688.574647\n",
            "              ...     \n",
            "2349432    3840.358823\n",
            "2349433    3805.419293\n",
            "2349434    3628.126117\n",
            "2349435    3321.737182\n",
            "2349436    3793.037055\n",
            "Length: 2349437, dtype: float64\n"
          ]
        }
      ]
    },
    {
      "cell_type": "code",
      "source": [
        "difference_2 = trade_results['sell_val'] - trade_results['prev_buy_val']\n",
        "print(difference_2)"
      ],
      "metadata": {
        "colab": {
          "base_uri": "https://localhost:8080/"
        },
        "id": "5VagDyzeSUhk",
        "outputId": "8b9f077a-66ec-486f-9c75-aef21842b00f"
      },
      "execution_count": null,
      "outputs": [
        {
          "output_type": "stream",
          "name": "stdout",
          "text": [
            "0          -441.182331\n",
            "1          -458.376486\n",
            "2          -929.266203\n",
            "3          -735.691551\n",
            "4         -1113.422074\n",
            "              ...     \n",
            "2349432     517.694765\n",
            "2349433    -372.429303\n",
            "2349434     112.104540\n",
            "2349435     495.264838\n",
            "2349436     479.129953\n",
            "Length: 2349437, dtype: float64\n"
          ]
        }
      ]
    },
    {
      "cell_type": "code",
      "source": [
        "gross_p_n_l = difference_1*(buy_data['quote_qty'])+difference_2*(sell_data['quote_qty'])\n",
        "print(gross_p_n_l)"
      ],
      "metadata": {
        "colab": {
          "base_uri": "https://localhost:8080/"
        },
        "id": "fTlCmYSxSdJs",
        "outputId": "1149d5a3-bb02-4d3f-a8a1-cf0745f940ff"
      },
      "execution_count": null,
      "outputs": [
        {
          "output_type": "stream",
          "name": "stdout",
          "text": [
            "0          2.387534e+04\n",
            "1          3.862576e+04\n",
            "2          7.921672e+05\n",
            "3          2.500984e+06\n",
            "4          2.688130e+06\n",
            "               ...     \n",
            "2349432    9.165147e+04\n",
            "2349433    3.018135e+06\n",
            "2349434    1.137015e+06\n",
            "2349435    1.003656e+05\n",
            "2349436    1.218041e+04\n",
            "Length: 2349437, dtype: float64\n"
          ]
        }
      ]
    },
    {
      "cell_type": "code",
      "source": [
        "trade_results['gross_val'] = gross_p_n_l\n",
        "print(trade_results['gross_val'])"
      ],
      "metadata": {
        "colab": {
          "base_uri": "https://localhost:8080/"
        },
        "id": "f15tWck1TCB1",
        "outputId": "222bb180-e3fd-495c-a9de-f69cc25e9f84"
      },
      "execution_count": null,
      "outputs": [
        {
          "output_type": "stream",
          "name": "stdout",
          "text": [
            "0          2.387534e+04\n",
            "1          3.862576e+04\n",
            "2          7.921672e+05\n",
            "3          2.500984e+06\n",
            "4          2.688130e+06\n",
            "               ...     \n",
            "2349432    9.165147e+04\n",
            "2349433    3.018135e+06\n",
            "2349434    1.137015e+06\n",
            "2349435    1.003656e+05\n",
            "2349436    1.218041e+04\n",
            "Name: gross_val, Length: 2349437, dtype: float64\n"
          ]
        }
      ]
    },
    {
      "cell_type": "code",
      "source": [
        "print(trade_results)"
      ],
      "metadata": {
        "colab": {
          "base_uri": "https://localhost:8080/"
        },
        "id": "Zy3piDRWUyrf",
        "outputId": "4bb0eed1-9d8c-4e01-da63-3fb2065e4016"
      },
      "execution_count": null,
      "outputs": [
        {
          "output_type": "stream",
          "name": "stdout",
          "text": [
            "         Trade_match       buy_val      sell_val  prev_buy_val  prev_sell_val  \\\n",
            "0               True  46166.710293  42718.827669      43160.01        43160.0   \n",
            "1               True  45512.936642  42701.633514      43160.01        43160.0   \n",
            "2               True  46323.522082  42230.743797      43160.01        43160.0   \n",
            "3               True  45656.766494  42424.318449      43160.01        43160.0   \n",
            "4               True  45848.574647  42046.587926      43160.01        43160.0   \n",
            "...              ...           ...           ...           ...            ...   \n",
            "2349432         True  46294.358823  42781.864765      42264.17        42454.0   \n",
            "2349433         True  46259.419293  41891.740697      42264.17        42454.0   \n",
            "2349434         True  46082.126117  42376.274540      42264.17        42454.0   \n",
            "2349435         True  45775.737182  42759.434838      42264.17        42454.0   \n",
            "2349436         True  46247.037055  42743.299953      42264.17        42454.0   \n",
            "\n",
            "        profit loss position_hedged     gross_val  difference_buy  \\\n",
            "0          NaN  NaN             NaN  2.387534e+04     3006.710293   \n",
            "1          NaN  NaN             NaN  3.862576e+04     2352.936642   \n",
            "2          NaN  NaN             NaN  7.921672e+05     3163.522082   \n",
            "3          NaN  NaN             NaN  2.500984e+06     2496.766494   \n",
            "4          NaN  NaN             NaN  2.688130e+06     2688.574647   \n",
            "...        ...  ...             ...           ...             ...   \n",
            "2349432    NaN  NaN             NaN  9.165147e+04     3840.358823   \n",
            "2349433    NaN  NaN             NaN  3.018135e+06     3805.419293   \n",
            "2349434    NaN  NaN             NaN  1.137015e+06     3628.126117   \n",
            "2349435    NaN  NaN             NaN  1.003656e+05     3321.737182   \n",
            "2349436    NaN  NaN             NaN  1.218041e+04     3793.037055   \n",
            "\n",
            "         difference_sell  \n",
            "0            -441.182331  \n",
            "1            -458.376486  \n",
            "2            -929.266203  \n",
            "3            -735.691551  \n",
            "4           -1113.422074  \n",
            "...                  ...  \n",
            "2349432       517.694765  \n",
            "2349433      -372.429303  \n",
            "2349434       112.104540  \n",
            "2349435       495.264838  \n",
            "2349436       479.129953  \n",
            "\n",
            "[2349437 rows x 11 columns]\n"
          ]
        }
      ]
    },
    {
      "cell_type": "code",
      "source": [
        "trade_results['loss'] = np.where((trade_results['difference_buy']<0) | (trade_results['difference_sell']<0),True,False)\n",
        "print(trade_results['loss'].value_counts())"
      ],
      "metadata": {
        "colab": {
          "base_uri": "https://localhost:8080/"
        },
        "id": "tst-RgosoZVe",
        "outputId": "112e1a5d-500c-419f-ae4d-1f4dd7a466a1"
      },
      "execution_count": null,
      "outputs": [
        {
          "output_type": "stream",
          "name": "stdout",
          "text": [
            "True     2301991\n",
            "False      47446\n",
            "Name: loss, dtype: int64\n"
          ]
        }
      ]
    },
    {
      "cell_type": "code",
      "source": [
        "trade_results['profit'] = trade_results['profit'].loc[trade_results['loss']==False]\n",
        "print(trade_results['profit'].value_counts())"
      ],
      "metadata": {
        "colab": {
          "base_uri": "https://localhost:8080/"
        },
        "id": "ROpEiWH0tL94",
        "outputId": "bf5c9c41-3cc8-4670-bb3e-de812650e4d2"
      },
      "execution_count": null,
      "outputs": [
        {
          "output_type": "stream",
          "name": "stdout",
          "text": [
            "True    47446\n",
            "Name: profit, dtype: int64\n"
          ]
        }
      ]
    },
    {
      "cell_type": "code",
      "source": [
        "trade_results['profit'] = trade_results['profit'].replace(np.nan,False)\n",
        "print(trade_results['profit'])"
      ],
      "metadata": {
        "colab": {
          "base_uri": "https://localhost:8080/"
        },
        "id": "3Jeol76ztcin",
        "outputId": "e07f75b9-7238-4044-b92c-b67e775c3dc8"
      },
      "execution_count": null,
      "outputs": [
        {
          "output_type": "stream",
          "name": "stdout",
          "text": [
            "0          False\n",
            "1          False\n",
            "2          False\n",
            "3          False\n",
            "4          False\n",
            "           ...  \n",
            "2349432     True\n",
            "2349433    False\n",
            "2349434     True\n",
            "2349435     True\n",
            "2349436     True\n",
            "Name: profit, Length: 2349437, dtype: bool\n"
          ]
        }
      ]
    },
    {
      "cell_type": "code",
      "source": [
        "print(trade_results['loss'])"
      ],
      "metadata": {
        "colab": {
          "base_uri": "https://localhost:8080/"
        },
        "id": "2RXSm3j3qZq-",
        "outputId": "7afe9787-5154-470f-af8a-d41e72bd5e67"
      },
      "execution_count": null,
      "outputs": [
        {
          "output_type": "stream",
          "name": "stdout",
          "text": [
            "0           True\n",
            "1           True\n",
            "2           True\n",
            "3           True\n",
            "4           True\n",
            "           ...  \n",
            "2349432    False\n",
            "2349433     True\n",
            "2349434    False\n",
            "2349435    False\n",
            "2349436    False\n",
            "Name: loss, Length: 2349437, dtype: bool\n"
          ]
        }
      ]
    },
    {
      "cell_type": "code",
      "source": [
        "print(trade_results)"
      ],
      "metadata": {
        "colab": {
          "base_uri": "https://localhost:8080/"
        },
        "id": "nxkdyp9UrI7n",
        "outputId": "5159b965-3436-4eb6-c86e-72dbb8c595bf"
      },
      "execution_count": null,
      "outputs": [
        {
          "output_type": "stream",
          "name": "stdout",
          "text": [
            "         Trade_match       buy_val      sell_val  prev_buy_val  prev_sell_val  \\\n",
            "0               True  46166.710293  42718.827669      43160.01        43160.0   \n",
            "1               True  45512.936642  42701.633514      43160.01        43160.0   \n",
            "2               True  46323.522082  42230.743797      43160.01        43160.0   \n",
            "3               True  45656.766494  42424.318449      43160.01        43160.0   \n",
            "4               True  45848.574647  42046.587926      43160.01        43160.0   \n",
            "...              ...           ...           ...           ...            ...   \n",
            "2349432         True  46294.358823  42781.864765      42264.17        42454.0   \n",
            "2349433         True  46259.419293  41891.740697      42264.17        42454.0   \n",
            "2349434         True  46082.126117  42376.274540      42264.17        42454.0   \n",
            "2349435         True  45775.737182  42759.434838      42264.17        42454.0   \n",
            "2349436         True  46247.037055  42743.299953      42264.17        42454.0   \n",
            "\n",
            "         profit   loss position_hedged     gross_val  difference_buy  \\\n",
            "0         False   True             NaN  2.387534e+04     3006.710293   \n",
            "1         False   True             NaN  3.862576e+04     2352.936642   \n",
            "2         False   True             NaN  7.921672e+05     3163.522082   \n",
            "3         False   True             NaN  2.500984e+06     2496.766494   \n",
            "4         False   True             NaN  2.688130e+06     2688.574647   \n",
            "...         ...    ...             ...           ...             ...   \n",
            "2349432    True  False             NaN  9.165147e+04     3840.358823   \n",
            "2349433   False   True             NaN  3.018135e+06     3805.419293   \n",
            "2349434    True  False             NaN  1.137015e+06     3628.126117   \n",
            "2349435    True  False             NaN  1.003656e+05     3321.737182   \n",
            "2349436    True  False             NaN  1.218041e+04     3793.037055   \n",
            "\n",
            "         difference_sell  \n",
            "0            -441.182331  \n",
            "1            -458.376486  \n",
            "2            -929.266203  \n",
            "3            -735.691551  \n",
            "4           -1113.422074  \n",
            "...                  ...  \n",
            "2349432       517.694765  \n",
            "2349433      -372.429303  \n",
            "2349434       112.104540  \n",
            "2349435       495.264838  \n",
            "2349436       479.129953  \n",
            "\n",
            "[2349437 rows x 11 columns]\n"
          ]
        }
      ]
    },
    {
      "cell_type": "code",
      "source": [
        "trade_results['position_hedged'] = np.where((trade_results['difference_buy']>5000) | (trade_results['difference_sell']>5000),True,False)\n",
        "print(trade_results['position_hedged'])"
      ],
      "metadata": {
        "colab": {
          "base_uri": "https://localhost:8080/"
        },
        "id": "a2FP7VCNtvX4",
        "outputId": "d8a7b083-097c-4c67-8d75-49dafd3dea92"
      },
      "execution_count": null,
      "outputs": [
        {
          "output_type": "stream",
          "name": "stdout",
          "text": [
            "0          False\n",
            "1          False\n",
            "2          False\n",
            "3          False\n",
            "4          False\n",
            "           ...  \n",
            "2349432    False\n",
            "2349433    False\n",
            "2349434    False\n",
            "2349435    False\n",
            "2349436    False\n",
            "Name: position_hedged, Length: 2349437, dtype: bool\n"
          ]
        }
      ]
    },
    {
      "cell_type": "code",
      "source": [
        "print(trade_results)"
      ],
      "metadata": {
        "colab": {
          "base_uri": "https://localhost:8080/"
        },
        "id": "9fhnBwfivl-n",
        "outputId": "e0dd0aab-a533-4500-fb9f-0a721b6e90f8"
      },
      "execution_count": null,
      "outputs": [
        {
          "output_type": "stream",
          "name": "stdout",
          "text": [
            "         Trade_match       buy_val      sell_val  prev_buy_val  prev_sell_val  \\\n",
            "0               True  46166.710293  42718.827669      43160.01        43160.0   \n",
            "1               True  45512.936642  42701.633514      43160.01        43160.0   \n",
            "2               True  46323.522082  42230.743797      43160.01        43160.0   \n",
            "3               True  45656.766494  42424.318449      43160.01        43160.0   \n",
            "4               True  45848.574647  42046.587926      43160.01        43160.0   \n",
            "...              ...           ...           ...           ...            ...   \n",
            "2349432         True  46294.358823  42781.864765      42264.17        42454.0   \n",
            "2349433         True  46259.419293  41891.740697      42264.17        42454.0   \n",
            "2349434         True  46082.126117  42376.274540      42264.17        42454.0   \n",
            "2349435         True  45775.737182  42759.434838      42264.17        42454.0   \n",
            "2349436         True  46247.037055  42743.299953      42264.17        42454.0   \n",
            "\n",
            "         profit   loss  position_hedged     gross_val  difference_buy  \\\n",
            "0         False   True            False  2.387534e+04     3006.710293   \n",
            "1         False   True            False  3.862576e+04     2352.936642   \n",
            "2         False   True            False  7.921672e+05     3163.522082   \n",
            "3         False   True            False  2.500984e+06     2496.766494   \n",
            "4         False   True            False  2.688130e+06     2688.574647   \n",
            "...         ...    ...              ...           ...             ...   \n",
            "2349432    True  False            False  9.165147e+04     3840.358823   \n",
            "2349433   False   True            False  3.018135e+06     3805.419293   \n",
            "2349434    True  False            False  1.137015e+06     3628.126117   \n",
            "2349435    True  False            False  1.003656e+05     3321.737182   \n",
            "2349436    True  False            False  1.218041e+04     3793.037055   \n",
            "\n",
            "         difference_sell  \n",
            "0            -441.182331  \n",
            "1            -458.376486  \n",
            "2            -929.266203  \n",
            "3            -735.691551  \n",
            "4           -1113.422074  \n",
            "...                  ...  \n",
            "2349432       517.694765  \n",
            "2349433      -372.429303  \n",
            "2349434       112.104540  \n",
            "2349435       495.264838  \n",
            "2349436       479.129953  \n",
            "\n",
            "[2349437 rows x 11 columns]\n"
          ]
        }
      ]
    },
    {
      "cell_type": "code",
      "source": [
        "win_val = trade_results['gross_val'].loc[trade_results['profit']==True]\n",
        "print(win_val)"
      ],
      "metadata": {
        "colab": {
          "base_uri": "https://localhost:8080/"
        },
        "id": "5txAGl_zv0w9",
        "outputId": "1412c96d-a1b0-4516-ab4d-fc6a37945b73"
      },
      "execution_count": null,
      "outputs": [
        {
          "output_type": "stream",
          "name": "stdout",
          "text": [
            "2214696    2.126720e+05\n",
            "2214736    8.402967e+05\n",
            "2214739    1.043117e+07\n",
            "2214748    1.566738e+06\n",
            "2214749    5.365981e+05\n",
            "               ...     \n",
            "2349430    1.609939e+07\n",
            "2349432    9.165147e+04\n",
            "2349434    1.137015e+06\n",
            "2349435    1.003656e+05\n",
            "2349436    1.218041e+04\n",
            "Name: gross_val, Length: 47446, dtype: float64\n"
          ]
        }
      ]
    },
    {
      "cell_type": "code",
      "source": [
        "loss_val = trade_results['gross_val'].loc[trade_results['loss']==True]\n",
        "print(loss_val)"
      ],
      "metadata": {
        "colab": {
          "base_uri": "https://localhost:8080/"
        },
        "id": "U4s-UbSPwMOV",
        "outputId": "22558f64-64ca-4e52-ef57-5ce9fd955ce5"
      },
      "execution_count": null,
      "outputs": [
        {
          "output_type": "stream",
          "name": "stdout",
          "text": [
            "0          2.387534e+04\n",
            "1          3.862576e+04\n",
            "2          7.921672e+05\n",
            "3          2.500984e+06\n",
            "4          2.688130e+06\n",
            "               ...     \n",
            "2349426   -9.190791e+05\n",
            "2349427    5.967566e+06\n",
            "2349428    1.526811e+05\n",
            "2349431    6.109699e+05\n",
            "2349433    3.018135e+06\n",
            "Name: gross_val, Length: 2301991, dtype: float64\n"
          ]
        }
      ]
    },
    {
      "cell_type": "code",
      "source": [
        "gross_basis_p_n_l = np.mean(gross_p_n_l/10000)\n",
        "print(\"Gross basis p_n_l:\",gross_basis_p_n_l)"
      ],
      "metadata": {
        "colab": {
          "base_uri": "https://localhost:8080/"
        },
        "id": "IX_PKiacxdfs",
        "outputId": "47fa27db-a9be-458b-e8d1-7c11fc6435b3"
      },
      "execution_count": null,
      "outputs": [
        {
          "output_type": "stream",
          "name": "stdout",
          "text": [
            "Gross basis p_n_l: 95.70526520660887\n"
          ]
        }
      ]
    },
    {
      "cell_type": "code",
      "source": [
        "number_of_trades = len(trade_results['Trade_match'])\n",
        "print(\"Number of trades:\",number_of_trades)"
      ],
      "metadata": {
        "colab": {
          "base_uri": "https://localhost:8080/"
        },
        "id": "5xJJyztYwU5b",
        "outputId": "15f21630-d828-4920-d0f1-813ff69aa23f"
      },
      "execution_count": null,
      "outputs": [
        {
          "output_type": "stream",
          "name": "stdout",
          "text": [
            "Number of trades: 2349437\n"
          ]
        }
      ]
    },
    {
      "cell_type": "code",
      "source": [
        "average_win_p_n_l = np.mean(win_val/10000)\n",
        "print(\"Average win p_n_l:\",average_win_p_n_l)"
      ],
      "metadata": {
        "colab": {
          "base_uri": "https://localhost:8080/"
        },
        "id": "LuLusXiWw--i",
        "outputId": "50a9daee-7b1f-4daf-f7ac-ca80d02c648a"
      },
      "execution_count": null,
      "outputs": [
        {
          "output_type": "stream",
          "name": "stdout",
          "text": [
            "Average win p_n_l: 645.7501436855964\n"
          ]
        }
      ]
    },
    {
      "cell_type": "code",
      "source": [
        "average_loss_p_n_l = np.mean(loss_val/10000)\n",
        "print(\"Average loss p_n_l:\",average_loss_p_n_l)"
      ],
      "metadata": {
        "colab": {
          "base_uri": "https://localhost:8080/"
        },
        "id": "68sLP768xOhr",
        "outputId": "56c0710e-ab33-4e6a-9c3b-930614c04abc"
      },
      "execution_count": null,
      "outputs": [
        {
          "output_type": "stream",
          "name": "stdout",
          "text": [
            "Average loss p_n_l: 84.36837062087353\n"
          ]
        }
      ]
    },
    {
      "cell_type": "code",
      "source": [
        ""
      ],
      "metadata": {
        "id": "6M8jjoxxxV34"
      },
      "execution_count": null,
      "outputs": []
    }
  ]
}